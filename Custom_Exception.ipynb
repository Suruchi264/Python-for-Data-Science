{
  "nbformat": 4,
  "nbformat_minor": 0,
  "metadata": {
    "colab": {
      "provenance": [],
      "authorship_tag": "ABX9TyO+SXTcwb39mea1mgiW2WCK",
      "include_colab_link": true
    },
    "kernelspec": {
      "name": "python3",
      "display_name": "Python 3"
    },
    "language_info": {
      "name": "python"
    }
  },
  "cells": [
    {
      "cell_type": "markdown",
      "metadata": {
        "id": "view-in-github",
        "colab_type": "text"
      },
      "source": [
        "<a href=\"https://colab.research.google.com/github/Suruchi264/Python-for-Data-Science/blob/main/Custom_Exception.ipynb\" target=\"_parent\"><img src=\"https://colab.research.google.com/assets/colab-badge.svg\" alt=\"Open In Colab\"/></a>"
      ]
    },
    {
      "cell_type": "code",
      "execution_count": null,
      "metadata": {
        "id": "TJPdpKu6HBCh"
      },
      "outputs": [],
      "source": [
        "class Error(Exception):\n",
        "  pass\n",
        "\n",
        "class dobException(Error):\n",
        "  pass"
      ]
    },
    {
      "cell_type": "code",
      "source": [
        "year = int(input(\"Enter the year of Birth \"))\n",
        "age = 2022 - year\n",
        "try:\n",
        "  if age<=30 & age>=20:\n",
        "    print(\"The age is valid. You can apply for the exams\")\n",
        "  else:\n",
        "    raise dobException\n",
        "except dobException:\n",
        "  print(\"Sorry, your age should be greater than 20 or less than 30\")"
      ],
      "metadata": {
        "colab": {
          "base_uri": "https://localhost:8080/"
        },
        "id": "pSdff709HnW9",
        "outputId": "f7859ef0-9fb7-4f85-b0ac-c3d1a1c1b540"
      },
      "execution_count": null,
      "outputs": [
        {
          "output_type": "stream",
          "name": "stdout",
          "text": [
            "Enter the year of Birth 25\n",
            "Sorry, your age should be greater than 20 or less than 30\n"
          ]
        }
      ]
    }
  ]
}