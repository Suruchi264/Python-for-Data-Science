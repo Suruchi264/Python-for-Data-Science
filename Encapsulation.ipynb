{
  "nbformat": 4,
  "nbformat_minor": 0,
  "metadata": {
    "colab": {
      "provenance": [],
      "authorship_tag": "ABX9TyPl2ASvLlVuEBU6Oo9WnNQ+",
      "include_colab_link": true
    },
    "kernelspec": {
      "name": "python3",
      "display_name": "Python 3"
    },
    "language_info": {
      "name": "python"
    }
  },
  "cells": [
    {
      "cell_type": "markdown",
      "metadata": {
        "id": "view-in-github",
        "colab_type": "text"
      },
      "source": [
        "<a href=\"https://colab.research.google.com/github/Suruchi264/Python-for-Data-Science/blob/main/Encapsulation.ipynb\" target=\"_parent\"><img src=\"https://colab.research.google.com/assets/colab-badge.svg\" alt=\"Open In Colab\"/></a>"
      ]
    },
    {
      "cell_type": "markdown",
      "source": [
        "***ENCAPSULATION AND ABSTRACTION ***\n",
        "\n",
        "Encapsulation and abstraction are two fundamental principles of OOP that help in designing robust, maintainable, and reusable code. Encapsulation involves bundling data and methods that operate on the data within a single unit, while abstraction involves hiding complex implementation details and exposing only the necessary features."
      ],
      "metadata": {
        "id": "VyY6CPzOHCR2"
      }
    },
    {
      "cell_type": "markdown",
      "source": [
        "**ENCAPSULATION**\n",
        "\n",
        "It is the concept of wrapping data(variables) and methods(functions) together as a single unit. It restricts direct access to some of the object's components, which is a means of preventing accidental interference and misuse of the data."
      ],
      "metadata": {
        "id": "95ZI4ru0H3-I"
      }
    },
    {
      "cell_type": "code",
      "source": [
        "## Encapsulation with Getter and Setter Methods\n",
        "### Public, protected and pvt variables or access modifiers\n",
        "class Person:\n",
        "  def __init__(self,name,age):\n",
        "    self.name = name           ## pub var\n",
        "    self.age = age             ## pvt var\n",
        "\n",
        "person = Person(\"Suruchi\",22)\n",
        "print(person.name)\n",
        "print(person.age)"
      ],
      "metadata": {
        "colab": {
          "base_uri": "https://localhost:8080/"
        },
        "id": "1SVZx_NHIUKX",
        "outputId": "650e5bff-9f8b-4db4-cc09-6a4089d5381d"
      },
      "execution_count": 2,
      "outputs": [
        {
          "output_type": "stream",
          "name": "stdout",
          "text": [
            "Suruchi\n",
            "22\n"
          ]
        }
      ]
    },
    {
      "cell_type": "code",
      "source": [
        "dir(person)"
      ],
      "metadata": {
        "colab": {
          "base_uri": "https://localhost:8080/"
        },
        "id": "m5OO-T1SIxB-",
        "outputId": "2fff4a0b-d4d6-4472-9e4b-bce72976c493"
      },
      "execution_count": 3,
      "outputs": [
        {
          "output_type": "execute_result",
          "data": {
            "text/plain": [
              "['__class__',\n",
              " '__delattr__',\n",
              " '__dict__',\n",
              " '__dir__',\n",
              " '__doc__',\n",
              " '__eq__',\n",
              " '__format__',\n",
              " '__ge__',\n",
              " '__getattribute__',\n",
              " '__getstate__',\n",
              " '__gt__',\n",
              " '__hash__',\n",
              " '__init__',\n",
              " '__init_subclass__',\n",
              " '__le__',\n",
              " '__lt__',\n",
              " '__module__',\n",
              " '__ne__',\n",
              " '__new__',\n",
              " '__reduce__',\n",
              " '__reduce_ex__',\n",
              " '__repr__',\n",
              " '__setattr__',\n",
              " '__sizeof__',\n",
              " '__str__',\n",
              " '__subclasshook__',\n",
              " '__weakref__',\n",
              " 'age',\n",
              " 'name']"
            ]
          },
          "metadata": {},
          "execution_count": 3
        }
      ]
    },
    {
      "cell_type": "code",
      "source": [
        "## Encapsulation with Getter and Setter Methods\n",
        "### Public, protected and pvt variables or access modifiers\n",
        "class Person:\n",
        "  def __init__(self,name,age):\n",
        "    self.name = name           ## pub var\n",
        "    self.age = age             ## pub var\n",
        "\n",
        "  def get_name(person):\n",
        "    return person.name\n",
        "\n",
        "person = Person(\"Suruchi\",22)\n",
        "print(person.get_name())"
      ],
      "metadata": {
        "colab": {
          "base_uri": "https://localhost:8080/"
        },
        "id": "BohJ-gxoI1Rb",
        "outputId": "bc632c56-2596-40ac-8e23-fc95493dbc8c"
      },
      "execution_count": 11,
      "outputs": [
        {
          "output_type": "stream",
          "name": "stdout",
          "text": [
            "Suruchi\n"
          ]
        }
      ]
    },
    {
      "cell_type": "code",
      "source": [
        "## Encapsulation with Getter and Setter Methods\n",
        "### Public, protected and pvt variables or access modifiers\n",
        "class Person:\n",
        "  def __init__(self,name,age):\n",
        "    self.__name = name           ## pvt var\n",
        "    self.__age = age             ## pvt var\n",
        "\n",
        "  def get_name(self):\n",
        "    return self.__name\n",
        "\n",
        "person = Person(\"Suruchi\",22)\n",
        "print(person.get_name())"
      ],
      "metadata": {
        "colab": {
          "base_uri": "https://localhost:8080/"
        },
        "id": "NcFshVukJU6m",
        "outputId": "22b5c8c8-35f7-4a54-bb42-e9b0b6b1f460"
      },
      "execution_count": 10,
      "outputs": [
        {
          "output_type": "stream",
          "name": "stdout",
          "text": [
            "Suruchi\n"
          ]
        }
      ]
    },
    {
      "cell_type": "code",
      "source": [
        "class Person:\n",
        "  def __init__(self,name,age,gender):\n",
        "    self.__name = name           ##pvt var\n",
        "    self.__age = age             ##pvt var\n",
        "    self.gender = gender\n",
        "\n",
        "  def get_age(self): # Define a method inside the class to access __age\n",
        "    return self.__age\n",
        "\n",
        "person = Person(\"Suruchi\",22,\"Female\")\n",
        "print(person.get_age()) # Call the method to access the age"
      ],
      "metadata": {
        "colab": {
          "base_uri": "https://localhost:8080/"
        },
        "id": "zbDDtSUDuQyy",
        "outputId": "d1626a72-8d2e-4b62-cea2-0f05c44f1239"
      },
      "execution_count": 7,
      "outputs": [
        {
          "output_type": "stream",
          "name": "stdout",
          "text": [
            "22\n"
          ]
        }
      ]
    },
    {
      "cell_type": "code",
      "source": [
        "person = Person(\"Suruchi\",22,\"Female\")\n",
        "dir(person)"
      ],
      "metadata": {
        "colab": {
          "base_uri": "https://localhost:8080/"
        },
        "id": "CGp6X6b2u7SX",
        "outputId": "04ec6536-9692-4cdb-a7b1-8f6b99bcbe83"
      },
      "execution_count": 2,
      "outputs": [
        {
          "output_type": "execute_result",
          "data": {
            "text/plain": [
              "['_Person__age',\n",
              " '_Person__gender',\n",
              " '_Person__name',\n",
              " '__class__',\n",
              " '__delattr__',\n",
              " '__dict__',\n",
              " '__dir__',\n",
              " '__doc__',\n",
              " '__eq__',\n",
              " '__format__',\n",
              " '__ge__',\n",
              " '__getattribute__',\n",
              " '__getstate__',\n",
              " '__gt__',\n",
              " '__hash__',\n",
              " '__init__',\n",
              " '__init_subclass__',\n",
              " '__le__',\n",
              " '__lt__',\n",
              " '__module__',\n",
              " '__ne__',\n",
              " '__new__',\n",
              " '__reduce__',\n",
              " '__reduce_ex__',\n",
              " '__repr__',\n",
              " '__setattr__',\n",
              " '__sizeof__',\n",
              " '__str__',\n",
              " '__subclasshook__',\n",
              " '__weakref__']"
            ]
          },
          "metadata": {},
          "execution_count": 2
        }
      ]
    },
    {
      "cell_type": "code",
      "source": [
        "class Person:\n",
        "  def __init__(self,name,age,gender):\n",
        "    self._name = name           ##protected var\n",
        "    self._age = age             ##protected var\n",
        "    self.gender = gender\n",
        "\n",
        "  def get_age(person): # Define a method inside the class to access __age\n",
        "    return person.__age\n",
        "\n",
        "person = Person(\"Suruchi\",22,\"Female\")\n",
        "get_age(person) # Call the method to access the age"
      ],
      "metadata": {
        "colab": {
          "base_uri": "https://localhost:8080/"
        },
        "id": "oRiHxYz3vwXX",
        "outputId": "53f4803f-9564-4fbb-c91a-7ae616007ca4"
      },
      "execution_count": 9,
      "outputs": [
        {
          "output_type": "stream",
          "name": "stdout",
          "text": [
            "22\n"
          ]
        }
      ]
    },
    {
      "cell_type": "code",
      "metadata": {
        "colab": {
          "base_uri": "https://localhost:8080/"
        },
        "id": "fdf1e0c6",
        "outputId": "c3bff3e6-355e-4df0-fcd6-96f19dbcc0e7"
      },
      "source": [
        "class Person:\n",
        "  def __init__(self,name,age,gender):\n",
        "    self._name = name           ##protected var\n",
        "    self._age = age             ##protected var\n",
        "    self.gender = gender\n",
        "\n",
        "  def get_age(self): # Define a method inside the class to access _age\n",
        "    return self._age # Accessing the protected variable with a single underscore\n",
        "\n",
        "person = Person(\"Suruchi\",22,\"Female\")\n",
        "print(person.get_age()) # Call the method using the object\n",
        "\n",
        "\n",
        "\n",
        "\n",
        "\n",
        "\n",
        "#  Code Snippet 1 (with the error):\n",
        "\n",
        "# class Person:\n",
        "#   def __init__(self,name,age,gender):\n",
        "#     self._name = name           ##protected var\n",
        "#     self._age = age             ##protected var\n",
        "#     self.gender = gender\n",
        "\n",
        "#   def get_age(person): # <--- Takes 'person' as the first argument\n",
        "#     return person.__age # <--- Tries to access a private variable '__age'\n",
        "\n",
        "# person = Person(\"Suruchi\",22,\"Female\")\n",
        "# get_age(person) # <--- Called as a standalone function\n",
        "# get_age(person):: The method is defined to accept person as its first argument. While you can name the first parameter anything, the convention in Python for instance methods is to use self, which refers to the instance of the class itself.\n",
        "# return person.__age: This line attempts to access __age. The double underscore (__) indicates a private variable, which undergoes name mangling (e.g., _Person__age). Directly accessing person.__age like this will result in an AttributeError.\n",
        "# get_age(person): The method is called as if it were a standalone function, passing the person object as an argument. This is incorrect for calling an instance method.\n",
        "\n",
        "# Code Snippet 2 (the corrected code):\n",
        "\n",
        "# class Person:\n",
        "#   def __init__(self,name,age,gender):\n",
        "#     self._name = name           ##protected var\n",
        "#     self._age = age             ##protected var\n",
        "#     self.gender = gender\n",
        "\n",
        "#   def get_age(self): # <--- Takes 'self' as the first argument\n",
        "#     return self._age # <--- Accesses a protected variable '_age'\n",
        "\n",
        "# person = Person(\"Suruchi\",22,\"Female\")\n",
        "# print(person.get_age()) # <--- Called as a method of the object\n",
        "# get_age(self):: The method is defined to accept self as its first argument, following the standard Python convention for instance methods. self refers to the specific person object that calls the method.\n",
        "# return self._age: This line correctly accesses the protected variable _age using self. Protected variables (indicated by a single underscore _) are conventionally treated as internal to the class but are still accessible from outside, though it's not recommended for direct access.\n",
        "# print(person.get_age()): The method is called correctly as a method of the person object using dot notation (object.method()).\n",
        "# In summary:\n",
        "\n",
        "# The first code snippet has two main issues:\n",
        "\n",
        "# It tries to access a variable using person.__age which is incorrect for private variables.\n",
        "# It calls the get_age method as a standalone function instead of an instance method.\n",
        "# The second code snippet correctly defines get_age as an instance method using self and accesses the protected variable _age appropriately. It also calls the method correctly using the object."
      ],
      "execution_count": 11,
      "outputs": [
        {
          "output_type": "stream",
          "name": "stdout",
          "text": [
            "22\n"
          ]
        }
      ]
    },
    {
      "cell_type": "code",
      "source": [
        "\n",
        "class Person:\n",
        "  def __init__(self,name,age,gender):\n",
        "    self._name = name           ##protected var\n",
        "    self._age = age             ##protected var\n",
        "    self.gender = gender\n",
        "\n",
        "class Employee(Person):\n",
        "  def __init__(self,name,age,gender):\n",
        "    super().__init__(self,name,age,gender)\n",
        "\n",
        "employee = Employee(\"Suruchi\")"
      ],
      "metadata": {
        "colab": {
          "base_uri": "https://localhost:8080/",
          "height": 176
        },
        "id": "ljC9CZY1xTK9",
        "outputId": "6b8519c6-9f8a-4b81-a2bb-1d0b05fd1a43"
      },
      "execution_count": 16,
      "outputs": [
        {
          "output_type": "error",
          "ename": "TypeError",
          "evalue": "Employee.__init__() missing 2 required positional arguments: 'age' and 'gender'",
          "traceback": [
            "\u001b[0;31m---------------------------------------------------------------------------\u001b[0m",
            "\u001b[0;31mTypeError\u001b[0m                                 Traceback (most recent call last)",
            "\u001b[0;32m<ipython-input-16-720370473>\u001b[0m in \u001b[0;36m<cell line: 0>\u001b[0;34m()\u001b[0m\n\u001b[1;32m      9\u001b[0m     \u001b[0msuper\u001b[0m\u001b[0;34m(\u001b[0m\u001b[0;34m)\u001b[0m\u001b[0;34m.\u001b[0m\u001b[0m__init__\u001b[0m\u001b[0;34m(\u001b[0m\u001b[0mself\u001b[0m\u001b[0;34m,\u001b[0m\u001b[0mname\u001b[0m\u001b[0;34m,\u001b[0m\u001b[0mage\u001b[0m\u001b[0;34m,\u001b[0m\u001b[0mgender\u001b[0m\u001b[0;34m)\u001b[0m\u001b[0;34m\u001b[0m\u001b[0;34m\u001b[0m\u001b[0m\n\u001b[1;32m     10\u001b[0m \u001b[0;34m\u001b[0m\u001b[0m\n\u001b[0;32m---> 11\u001b[0;31m \u001b[0memployee\u001b[0m \u001b[0;34m=\u001b[0m \u001b[0mEmployee\u001b[0m\u001b[0;34m(\u001b[0m\u001b[0;34m\"Suruchi\"\u001b[0m\u001b[0;34m)\u001b[0m\u001b[0;34m\u001b[0m\u001b[0;34m\u001b[0m\u001b[0m\n\u001b[0m",
            "\u001b[0;31mTypeError\u001b[0m: Employee.__init__() missing 2 required positional arguments: 'age' and 'gender'"
          ]
        }
      ]
    },
    {
      "cell_type": "code",
      "source": [
        "# class Person:\n",
        "#   def __init__(self,name,age,gender):\n",
        "#     self._name = name           ##protected var\n",
        "#     self._age = age             ##protected var\n",
        "#     self.gender = gender\n",
        "\n",
        "# class Employee(Person):\n",
        "#   def __init__(self,name,age,gender):\n",
        "#     super().__init__(self,name,age,gender)\n",
        "\n",
        "# employee = Employee(\"Suruchi\")\n",
        "\n",
        "# The error in the provided code is a TypeError.\n",
        "# The Employee class's __init__ method is defined to accept three positional arguments: name, age, and gender. However, when you create an instance of Employee with employee = Employee(\"Suruchi\"), you are only providing one argument (\"Suruchi\"). Python expects all the defined arguments to be provided when calling the constructor.\n",
        "# Additionally, inside the Employee.__init__ method, the line super().__init__(self,name,age,gender) is incorrect. When using super(), you do not need to explicitly pass self as the first argument to the parent class's __init__ method; super() handles that automatically.\n",
        "\n",
        "\n",
        "class Person:\n",
        "  def __init__(self,name,age,gender):\n",
        "    self._name = name           ##protected var\n",
        "    self._age = age             ##protected var\n",
        "    self.gender = gender\n",
        "\n",
        "class Employee(Person):\n",
        "  def __init__(self,name,age,gender):\n",
        "    super().__init__(name,age,gender) # Removed 'self'\n",
        "\n",
        "employee = Employee(\"Suruchi\", 22, \"Female\") # Provided all arguments\n",
        "print(f\"Employee Name: {employee._name}, Age: {employee._age}, Gender: {employee.gender}\")"
      ],
      "metadata": {
        "colab": {
          "base_uri": "https://localhost:8080/"
        },
        "outputId": "af8c3e71-2490-4310-dd5e-c3971b8fcee5",
        "id": "ZgnuoD_Cy5kT"
      },
      "execution_count": 20,
      "outputs": [
        {
          "output_type": "stream",
          "name": "stdout",
          "text": [
            "Employee Name: Suruchi, Age: 22, Gender: Female\n"
          ]
        }
      ]
    },
    {
      "cell_type": "code",
      "metadata": {
        "colab": {
          "base_uri": "https://localhost:8080/"
        },
        "id": "0cbe66cb",
        "outputId": "43a2abb6-255f-4875-fb64-987f16877614"
      },
      "source": [
        "## Encapsulation with Getter and Setter\n",
        "class Person:\n",
        "  def __init__(self,name,age):\n",
        "    self.__name = name           ## Pvt access modifier or variable\n",
        "    self.__age = age             ## Pvt var\n",
        "\n",
        "  ## getter method for name\n",
        "  def get_name(self):\n",
        "    return self.__name\n",
        "\n",
        "  ## setter method for name\n",
        "  def set_name(self,name):\n",
        "    self.__name = name\n",
        "\n",
        "  ## getter method for age\n",
        "  def get_age(self):\n",
        "    return self.__age\n",
        "\n",
        "  ## setter method for age\n",
        "  def set_age(self,age):\n",
        "    if age > 0:\n",
        "      self.__age = age\n",
        "    else:\n",
        "      print(\"Invalid age\")\n",
        "\n",
        "person = Person(\"Suruchi\",22)\n",
        "\n",
        "## Access and modify pvt var using getter and setter\n",
        "print(person.get_name())\n",
        "print(person.get_age())\n",
        "\n",
        "person.set_age(22)\n",
        "print(person.get_age())\n",
        "\n",
        "person.set_age(-22)"
      ],
      "execution_count": 21,
      "outputs": [
        {
          "output_type": "stream",
          "name": "stdout",
          "text": [
            "Suruchi\n",
            "22\n",
            "22\n",
            "Invalid age\n"
          ]
        }
      ]
    }
  ]
}