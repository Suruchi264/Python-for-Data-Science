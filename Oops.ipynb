{
  "nbformat": 4,
  "nbformat_minor": 0,
  "metadata": {
    "colab": {
      "provenance": [],
      "authorship_tag": "ABX9TyOzgddIIytB0R3rFTWRi6Ps",
      "include_colab_link": true
    },
    "kernelspec": {
      "name": "python3",
      "display_name": "Python 3"
    },
    "language_info": {
      "name": "python"
    }
  },
  "cells": [
    {
      "cell_type": "markdown",
      "metadata": {
        "id": "view-in-github",
        "colab_type": "text"
      },
      "source": [
        "<a href=\"https://colab.research.google.com/github/Suruchi264/Python-for-Data-Science/blob/main/Oops.ipynb\" target=\"_parent\"><img src=\"https://colab.research.google.com/assets/colab-badge.svg\" alt=\"Open In Colab\"/></a>"
      ]
    },
    {
      "cell_type": "markdown",
      "source": [
        "***CLASSES AND OBJECTS ***\n",
        "\n",
        "OOP is a programming paradigm that uses \"objects\" to design applications and computer programs. OOP allows for modeling real-world scenarios using classes and objects."
      ],
      "metadata": {
        "id": "65rh4bFOX4_w"
      }
    },
    {
      "cell_type": "code",
      "source": [
        "### A class is a blue print for creating objects. Attributes, methods\n",
        "\n",
        "# Define a class named 'Car'. This is a blueprint for creating Car objects.\n",
        "class Car:\n",
        "  pass # 'pass' is a placeholder, indicating an empty class body for now.\n",
        "\n",
        "# Create an object (instance) of the 'Car' class and assign it to the variable 'audi'.\n",
        "audi = Car()\n",
        "# Create another object (instance) of the 'Car' class and assign it to the variable 'bmw'.\n",
        "bmw = Car()\n",
        "\n",
        "# Print the type of the 'audi' object. This will show that it is an instance of the 'Car' class.\n",
        "print(type(audi))"
      ],
      "metadata": {
        "colab": {
          "base_uri": "https://localhost:8080/"
        },
        "id": "WiIJO661Zir5",
        "outputId": "d0dc2959-9e05-407d-b656-e934b0b6d424"
      },
      "execution_count": null,
      "outputs": [
        {
          "output_type": "stream",
          "name": "stdout",
          "text": [
            "<class '__main__.Car'>\n"
          ]
        }
      ]
    },
    {
      "cell_type": "code",
      "source": [
        "print(audi)\n",
        "print(bmw)"
      ],
      "metadata": {
        "colab": {
          "base_uri": "https://localhost:8080/"
        },
        "id": "0racveomaA4t",
        "outputId": "32901635-4c49-42dd-dbba-589280162d8b"
      },
      "execution_count": null,
      "outputs": [
        {
          "output_type": "stream",
          "name": "stdout",
          "text": [
            "<__main__.Car object at 0x7b1c342b3850>\n",
            "<__main__.Car object at 0x7b1c342b3f50>\n"
          ]
        }
      ]
    },
    {
      "cell_type": "code",
      "source": [
        "# Add an attribute named 'windows' to the 'audi' object and assign it the value 4.\n",
        "audi.windows = 4\n",
        "\n",
        "# Print the value of the 'windows' attribute of the 'audi' object.\n",
        "print(audi.windows)"
      ],
      "metadata": {
        "colab": {
          "base_uri": "https://localhost:8080/"
        },
        "id": "Ej_UHPSUaKxi",
        "outputId": "443bad7f-e0a7-40ae-e5b9-3f5e144a23bd"
      },
      "execution_count": null,
      "outputs": [
        {
          "output_type": "stream",
          "name": "stdout",
          "text": [
            "4\n"
          ]
        }
      ]
    },
    {
      "cell_type": "code",
      "source": [
        "# Difference between the above and below code\n",
        "# audi.windows = 4: This line adds an attribute named windows specifically to the audi object. This attribute and its value (4) are only associated with the audi\n",
        "# instance of the Car class. Other Car objects, like bmw or tata, will not have this windows attribute unless you explicitly add it to them as well.\n",
        "# tata.doors = 4: Similarly, this line adds an attribute named doors specifically to the tata object. This attribute and its value (4) are only associated with the\n",
        "# tata instance of the Car class. Other Car objects will not have this doors attribute unless you add it to them.\n",
        "# In summary, when you add an attribute directly to an object instance using the dot notation (e.g., object_name.attribute_name = value), that attribute becomes a\n",
        "# part of that specific object instance and is not shared with other instances of the same class.\n",
        "\n",
        "\n",
        "# Create a new object (instance) of the 'Car' class and assign it to the variable 'tata'.\n",
        "tata = Car()\n",
        "# Add an attribute named 'doors' to the 'tata' object and assign it the value 4.\n",
        "tata.doors = 4"
      ],
      "metadata": {
        "id": "OXWkS2SHaWUA"
      },
      "execution_count": null,
      "outputs": []
    },
    {
      "cell_type": "code",
      "source": [
        "tata = Car()\n",
        "tata.doors = 4\n",
        "print(tata.windows)"
      ],
      "metadata": {
        "colab": {
          "base_uri": "https://localhost:8080/",
          "height": 176
        },
        "id": "oOm5ERbRackX",
        "outputId": "2aece925-f977-4c51-f8d8-891e3a58dd04"
      },
      "execution_count": null,
      "outputs": [
        {
          "output_type": "error",
          "ename": "AttributeError",
          "evalue": "'Car' object has no attribute 'windows'",
          "traceback": [
            "\u001b[0;31m---------------------------------------------------------------------------\u001b[0m",
            "\u001b[0;31mAttributeError\u001b[0m                            Traceback (most recent call last)",
            "\u001b[0;32m<ipython-input-5-842886412>\u001b[0m in \u001b[0;36m<cell line: 0>\u001b[0;34m()\u001b[0m\n\u001b[1;32m      1\u001b[0m \u001b[0mtata\u001b[0m \u001b[0;34m=\u001b[0m \u001b[0mCar\u001b[0m\u001b[0;34m(\u001b[0m\u001b[0;34m)\u001b[0m\u001b[0;34m\u001b[0m\u001b[0;34m\u001b[0m\u001b[0m\n\u001b[1;32m      2\u001b[0m \u001b[0mtata\u001b[0m\u001b[0;34m.\u001b[0m\u001b[0mdoors\u001b[0m \u001b[0;34m=\u001b[0m \u001b[0;36m4\u001b[0m\u001b[0;34m\u001b[0m\u001b[0;34m\u001b[0m\u001b[0m\n\u001b[0;32m----> 3\u001b[0;31m \u001b[0mprint\u001b[0m\u001b[0;34m(\u001b[0m\u001b[0mtata\u001b[0m\u001b[0;34m.\u001b[0m\u001b[0mwindows\u001b[0m\u001b[0;34m)\u001b[0m\u001b[0;34m\u001b[0m\u001b[0;34m\u001b[0m\u001b[0m\n\u001b[0m",
            "\u001b[0;31mAttributeError\u001b[0m: 'Car' object has no attribute 'windows'"
          ]
        }
      ]
    },
    {
      "cell_type": "code",
      "source": [
        "dir(tata)\n",
        "\n",
        "\n",
        "# When you use dir() on an object, like tata in this case, it attempts to return a list of valid attributes and methods of that object.\n",
        "# This includes both the attributes and methods that are inherited from its class (Car) and any attributes that have been added specifically to that object\n",
        "# instance (like doors).\n",
        "\n",
        "# The output you see is a list of all these available names associated with the tata object."
      ],
      "metadata": {
        "colab": {
          "base_uri": "https://localhost:8080/"
        },
        "id": "FV_rT-uQajwO",
        "outputId": "9b00b582-50d9-4479-92d1-f5e72452dabc"
      },
      "execution_count": null,
      "outputs": [
        {
          "output_type": "execute_result",
          "data": {
            "text/plain": [
              "['__class__',\n",
              " '__delattr__',\n",
              " '__dict__',\n",
              " '__dir__',\n",
              " '__doc__',\n",
              " '__eq__',\n",
              " '__format__',\n",
              " '__ge__',\n",
              " '__getattribute__',\n",
              " '__getstate__',\n",
              " '__gt__',\n",
              " '__hash__',\n",
              " '__init__',\n",
              " '__init_subclass__',\n",
              " '__le__',\n",
              " '__lt__',\n",
              " '__module__',\n",
              " '__ne__',\n",
              " '__new__',\n",
              " '__reduce__',\n",
              " '__reduce_ex__',\n",
              " '__repr__',\n",
              " '__setattr__',\n",
              " '__sizeof__',\n",
              " '__str__',\n",
              " '__subclasshook__',\n",
              " '__weakref__',\n",
              " 'doors']"
            ]
          },
          "metadata": {},
          "execution_count": 12
        }
      ]
    },
    {
      "cell_type": "code",
      "source": [
        "### Instance Variable and Methods\n",
        "\n",
        "# Define a class named 'Dog'. This is a blueprint for creating Dog objects.\n",
        "class Dog:\n",
        "  ## This is the constructor method. It's called automatically when you create a new Dog object.\n",
        "  # 'self' refers to the instance of the class being created.\n",
        "  # 'name' and 'age' are parameters passed when creating the object.\n",
        "  def __init__(self,name,age):\n",
        "    # self.name is an instance variable. It stores the name specific to this Dog object.\n",
        "    self.name = name\n",
        "    # self.age is another instance variable. It stores the age specific to this Dog object.\n",
        "    self.age = age\n",
        "\n",
        "  def bark(self):\n",
        "    print(f\"{self.name} says woof\")\n",
        "\n",
        "## Create Objects (instances) of the Dog class\n",
        "# Create the first Dog object named 'dog1'. The constructor __init__ is called with \"Buddy\" and 3.\n",
        "dog1 = Dog(\"Buddy\", 3)\n",
        "\n",
        "# # Print the dog1 object. This shows its memory location.\n",
        "# print(dog1)\n",
        "# # Access and print the 'name' instance variable of the dog1 object.\n",
        "# print(dog1.name)\n",
        "# # Access and print the 'age' instance variable of the dog1 object.\n",
        "# print(dog1.age)\n",
        "\n",
        "\n",
        "\n",
        "dog1.bark()\n",
        "dog2 = Dog(\"Lucy\",4)\n",
        "dog2.bark()"
      ],
      "metadata": {
        "colab": {
          "base_uri": "https://localhost:8080/"
        },
        "id": "PItc9RClaqJw",
        "outputId": "ba1efe95-3a6a-41f3-eccb-0286940ca04a"
      },
      "execution_count": null,
      "outputs": [
        {
          "output_type": "stream",
          "name": "stdout",
          "text": [
            "Buddy says woof\n",
            "Lucy says woof\n"
          ]
        }
      ]
    },
    {
      "cell_type": "code",
      "source": [
        "dog2 = Dog(\"Lucy\",4)\n",
        "print(dog2.name)\n",
        "print(dog2.age)"
      ],
      "metadata": {
        "colab": {
          "base_uri": "https://localhost:8080/"
        },
        "id": "rnk4sdoKckBp",
        "outputId": "b5c6ec0a-e9c7-43c3-b785-f9d9cb8e556b"
      },
      "execution_count": null,
      "outputs": [
        {
          "output_type": "stream",
          "name": "stdout",
          "text": [
            "Lucy\n",
            "4\n"
          ]
        }
      ]
    },
    {
      "cell_type": "code",
      "source": [
        "## Define a class with instance methods\n",
        "# Define a class named 'Dog'. This is a blueprint for creating Dog objects.\n",
        "class Dog:\n",
        "  # This is the constructor method. It's called automatically when you create a new Dog object.\n",
        "  # 'self' refers to the instance of the class being created.\n",
        "  # 'name' and 'age' are parameters passed when creating the object.\n",
        "  def __init__(self,name,age):\n",
        "    # self.name is an instance variable. It stores the name specific to this Dog object.\n",
        "    self.name = name\n",
        "    # self.age is another instance variable. It stores the age specific to this Dog object.\n",
        "    self.age = age\n",
        "\n",
        "  # This is an instance method named 'bark'.\n",
        "  # Instance methods operate on the instance of the class (using 'self').\n",
        "  def bark(self):\n",
        "    # This line prints a string using an f-string to include the 'name' instance variable of the specific Dog object.\n",
        "    print(f'{self.name} says woof')\n",
        "\n",
        "\n",
        "# Create the first Dog object named 'dog1'. The constructor __init__ is called with \"Buddy\" and 3.\n",
        "dog1 = Dog(\"Buddy\",3)\n",
        "# Call the 'bark' method on the 'dog1' object.\n",
        "dog1.bark()\n",
        "# Create the second Dog object named 'dog2'. The constructor __init__ is called with \"Lucy\" and 4.\n",
        "dog2 = Dog(\"Lucy\",4)\n",
        "# Call the 'bark' method on the 'dog2' object.\n",
        "dog2.bark()"
      ],
      "metadata": {
        "colab": {
          "base_uri": "https://localhost:8080/"
        },
        "id": "iZGfqsxjqOpw",
        "outputId": "8c1aee9f-9735-4384-9674-3f32e8492ff7"
      },
      "execution_count": null,
      "outputs": [
        {
          "output_type": "stream",
          "name": "stdout",
          "text": [
            "Buddy says woof\n",
            "Lucy says woof\n"
          ]
        }
      ]
    },
    {
      "cell_type": "code",
      "source": [
        "## Modeling a Bank Account\n",
        "\n",
        "## Define a class for bank account\n",
        "class BankAccount:\n",
        "  # This is the constructor method, called when a new BankAccount object is created.\n",
        "  # It initializes the account with an owner and an optional starting balance (defaults to 0).\n",
        "  def __init__(self,owner,balance=0):\n",
        "    # 'self.owner' is an instance variable storing the name of the account owner.\n",
        "    self.owner = owner\n",
        "    # 'self.balance' is an instance variable storing the current balance of the account.\n",
        "    self.balance = balance\n",
        "\n",
        "  # This is a method to deposit money into the account.\n",
        "  # It takes the deposit 'amount' as a parameter.\n",
        "  def deposit(self,amount):\n",
        "    # Adds the deposit amount to the current balance.\n",
        "    self.balance += amount\n",
        "    # Prints a confirmation message with the new balance.\n",
        "    print(f\"Deposit of {amount} accepted. New balance is {self.balance}\")\n",
        "\n",
        "  # This is a method to withdraw money from the account.\n",
        "  # It takes the withdrawal 'amount' as a parameter.\n",
        "  def withdraw(self,amount):\n",
        "    # Checks if the withdrawal amount is greater than the current balance.\n",
        "    if amount > self.balance:\n",
        "      # If insufficient funds, prints an error message.\n",
        "      print(\"Insufficient Funds\")\n",
        "    else:\n",
        "      # If sufficient funds, subtracts the withdrawal amount from the balance.\n",
        "      self.balance -= amount\n",
        "      # Prints a confirmation message with the new balance.\n",
        "      print(f\"Withdrawal of {amount} accepted. New balance is {self.balance}\")\n",
        "\n",
        "  # This method returns the current balance of the account.\n",
        "  def get_balance(self):\n",
        "    return self.balance\n",
        "\n",
        "\n",
        "## Create an account\n",
        "\n",
        "# Creates a new BankAccount object with the owner \"Suruchi\" and an initial balance of 5000.\n",
        "account = BankAccount(\"Suruchi\",5000)\n",
        "# Prints the initial balance of the 'account' object by accessing the 'balance' instance variable.\n",
        "print(account.balance)"
      ],
      "metadata": {
        "colab": {
          "base_uri": "https://localhost:8080/"
        },
        "id": "2sn2gv-Rq9a8",
        "outputId": "9e4c9b74-e649-4ed7-94f2-53d39fd5ac7e"
      },
      "execution_count": null,
      "outputs": [
        {
          "output_type": "stream",
          "name": "stdout",
          "text": [
            "5000\n"
          ]
        }
      ]
    },
    {
      "cell_type": "code",
      "source": [
        "## Call instance methods\n",
        "account.deposit(100)"
      ],
      "metadata": {
        "colab": {
          "base_uri": "https://localhost:8080/"
        },
        "id": "A6yC-jJXsVyf",
        "outputId": "ae37a3e8-6481-428c-8b4a-aa150e20679a"
      },
      "execution_count": null,
      "outputs": [
        {
          "output_type": "stream",
          "name": "stdout",
          "text": [
            "Deposit of 100 accepted. New balance is 5100\n"
          ]
        }
      ]
    },
    {
      "cell_type": "code",
      "source": [
        "account.withdraw(300)"
      ],
      "metadata": {
        "colab": {
          "base_uri": "https://localhost:8080/"
        },
        "id": "qEflzY2Xsce5",
        "outputId": "e2444ecb-7e72-40b8-ca5a-1837a8889854"
      },
      "execution_count": null,
      "outputs": [
        {
          "output_type": "stream",
          "name": "stdout",
          "text": [
            "Withdrawal of 300 accepted. New balance is 4800\n"
          ]
        }
      ]
    },
    {
      "cell_type": "code",
      "source": [
        "print(account.get_balance())"
      ],
      "metadata": {
        "colab": {
          "base_uri": "https://localhost:8080/"
        },
        "id": "zB0MFaCqshhX",
        "outputId": "c727237e-4c12-46cf-9cdf-fab0004d666f"
      },
      "execution_count": null,
      "outputs": [
        {
          "output_type": "stream",
          "name": "stdout",
          "text": [
            "4800\n"
          ]
        }
      ]
    },
    {
      "cell_type": "markdown",
      "source": [
        "***CONCLUSION***\n",
        "\n",
        "OOP allows you to model real-world scenarios using classes and objects. In this, we learned how to create classes and objects, define instance varibales and methods, and use them to perform various operations. Understanding these concepts is fundamental to writing effective and maintainable python code."
      ],
      "metadata": {
        "id": "cyVEAcz1srOb"
      }
    }
  ]
}