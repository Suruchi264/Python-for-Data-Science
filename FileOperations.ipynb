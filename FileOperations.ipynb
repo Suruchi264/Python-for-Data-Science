{
  "nbformat": 4,
  "nbformat_minor": 0,
  "metadata": {
    "colab": {
      "provenance": [],
      "authorship_tag": "ABX9TyPgaJRoKySBA4YwmNS4FjCQ",
      "include_colab_link": true
    },
    "kernelspec": {
      "name": "python3",
      "display_name": "Python 3"
    },
    "language_info": {
      "name": "python"
    }
  },
  "cells": [
    {
      "cell_type": "markdown",
      "metadata": {
        "id": "view-in-github",
        "colab_type": "text"
      },
      "source": [
        "<a href=\"https://colab.research.google.com/github/Suruchi264/Python-for-Data-Science/blob/main/FileOperations.ipynb\" target=\"_parent\"><img src=\"https://colab.research.google.com/assets/colab-badge.svg\" alt=\"Open In Colab\"/></a>"
      ]
    },
    {
      "cell_type": "markdown",
      "source": [
        "**FILE OPERATION - READ AND WRITE FILES **\n",
        "\n",
        "File handling is a crucial part of any programming language. Python provides built-in functions and methods to read from and write to files, both text and boinary."
      ],
      "metadata": {
        "id": "Spk5mrpmbCKu"
      }
    },
    {
      "cell_type": "code",
      "source": [
        "### READ A WHOLE FILE\n",
        "\n",
        "with open('/content/example.txt','r') as file:\n",
        "  content = file.read()\n",
        "  print(content)"
      ],
      "metadata": {
        "colab": {
          "base_uri": "https://localhost:8080/"
        },
        "id": "gLI8z_kGfm53",
        "outputId": "8969e584-951a-48dd-9d58-e7910881aa54"
      },
      "execution_count": null,
      "outputs": [
        {
          "output_type": "stream",
          "name": "stdout",
          "text": [
            "Hello How are you ? \n",
            "I am good \n",
            "Suruchi is my name \n",
            "Welcome to the course\n"
          ]
        }
      ]
    },
    {
      "cell_type": "markdown",
      "metadata": {
        "id": "97c7f405"
      },
      "source": [
        "**Upload the file:**\n",
        "\n",
        "1. Click the folder icon in the left sidebar to open the file browser.\n",
        "2. Click the \"Upload to session storage\" icon (an arrow pointing upwards).\n",
        "3. Select the `example.txt` file from your local computer and upload it.\n",
        "\n",
        "Once uploaded, the file will be available in the Colab environment, typically in the `/content/` directory."
      ]
    },
    {
      "cell_type": "code",
      "metadata": {
        "colab": {
          "base_uri": "https://localhost:8080/"
        },
        "id": "116856f9",
        "outputId": "1ee6d637-571b-4bec-8dd1-e94e8c30aea0"
      },
      "source": [
        "import os\n",
        "print(os.listdir('/content/'))"
      ],
      "execution_count": null,
      "outputs": [
        {
          "output_type": "stream",
          "name": "stdout",
          "text": [
            "['.config', 'sample_data']\n"
          ]
        }
      ]
    },
    {
      "cell_type": "code",
      "source": [
        "### READ A FILE LINE BY LINE\n",
        "\n",
        "with open('/content/example.txt','r') as file:\n",
        "  for line in file:\n",
        "    print(line)"
      ],
      "metadata": {
        "colab": {
          "base_uri": "https://localhost:8080/"
        },
        "id": "waG50lTtjzcL",
        "outputId": "0641d442-1b0a-4bd7-8227-1d05e4d05b87"
      },
      "execution_count": null,
      "outputs": [
        {
          "output_type": "stream",
          "name": "stdout",
          "text": [
            "Hello How are you ? \n",
            "\n",
            "I am good \n",
            "\n",
            "Suruchi is my name \n",
            "\n",
            "Welcome to the course\n"
          ]
        }
      ]
    },
    {
      "cell_type": "code",
      "source": [
        "### READ A FILE LINE BY LINE\n",
        "\n",
        "with open('/content/example.txt','r') as file:\n",
        "  for line in file:\n",
        "    print(line.strip()) ## strip() removes the newline character"
      ],
      "metadata": {
        "colab": {
          "base_uri": "https://localhost:8080/"
        },
        "id": "NzBxtdYFj_IL",
        "outputId": "0ccef75f-a337-425c-81c8-5366077b5e58"
      },
      "execution_count": null,
      "outputs": [
        {
          "output_type": "stream",
          "name": "stdout",
          "text": [
            "Hello How are you ?\n",
            "I am good\n",
            "Suruchi is my name\n",
            "Welcome to the course\n"
          ]
        }
      ]
    },
    {
      "cell_type": "code",
      "source": [
        "## Writing a file(Overwriting)\n",
        "\n",
        "with open('/content/example.txt','w') as file:\n",
        "  file.write('Hello World!\\n')\n",
        "  file.write('This is a new line.')"
      ],
      "metadata": {
        "id": "rB0KTVq9kM8A"
      },
      "execution_count": null,
      "outputs": []
    },
    {
      "cell_type": "code",
      "source": [
        "## Writing a file(Without Overwriting)\n",
        "\n",
        "with open('/content/example.txt','a') as file:\n",
        "  file.write(' Append operation taking place!\\n')"
      ],
      "metadata": {
        "id": "QPZwV5uKke_M"
      },
      "execution_count": null,
      "outputs": []
    },
    {
      "cell_type": "code",
      "source": [
        "### Writing a list of lines to a file\n",
        "lines = ['First line \\n', 'Second line \\n', 'Third line \\n']\n",
        "with open('/content/example.txt','a') as file:\n",
        "  file.writelines(lines)"
      ],
      "metadata": {
        "id": "Bscda-GjmVpl"
      },
      "execution_count": null,
      "outputs": []
    },
    {
      "cell_type": "code",
      "source": [
        "### Binary Files\n",
        "\n",
        "# Writing to a binary file\n",
        "data = b'\\x00\\x01\\x02\\x03\\x04'\n",
        "with open('/content/example.bin','wb') as file:\n",
        "  file.write(data)"
      ],
      "metadata": {
        "id": "dJiAb2t_nvao"
      },
      "execution_count": null,
      "outputs": []
    },
    {
      "cell_type": "code",
      "source": [
        "# Reading a binary file\n",
        "with open('/content/example.bin','rb') as file:\n",
        "  content = file.read()\n",
        "  print(content)"
      ],
      "metadata": {
        "colab": {
          "base_uri": "https://localhost:8080/"
        },
        "id": "aWh18jJ2oha1",
        "outputId": "917ba5c8-42ec-419e-d146-48bdb30700dc"
      },
      "execution_count": null,
      "outputs": [
        {
          "output_type": "stream",
          "name": "stdout",
          "text": [
            "b'\\x00\\x01\\x02\\x03\\x04'\n"
          ]
        }
      ]
    },
    {
      "cell_type": "code",
      "source": [
        "### Reading the content from a source text file and write to a destination text file\n",
        "# Copying a text file\n",
        "\n",
        "# Open the source file '/content/example.txt' in read mode ('r')\n",
        "# The 'with' statement ensures the file is automatically closed even if errors occur\n",
        "with open('/content/example.txt','r') as source_file:\n",
        "  # Read the entire content of the source file and store it in the 'content' variable\n",
        "  content = source_file.read()\n",
        "\n",
        "  # Open the destination file '/content/destination.txt' in write mode ('w')\n",
        "  # If the file doesn't exist, it will be created. If it exists, its content will be overwritten.\n",
        "  with open('/content/destination.txt','w') as destination_file:\n",
        "    # Write the content read from the source file into the destination file\n",
        "    destination_file.write(content)"
      ],
      "metadata": {
        "id": "3FerNYsgotdy"
      },
      "execution_count": null,
      "outputs": []
    },
    {
      "cell_type": "code",
      "source": [
        "## Read a text file and count the number of lines, words and characters.\n",
        "# Counting lines, words, and characters in a text file\n",
        "def count_text_file(file_path):\n",
        "  with open(file_path, 'r') as file:\n",
        "    lines = file.readlines()\n",
        "    line_count = len(lines)\n",
        "    word_count = sum(len(line.split()) for line in lines)\n",
        "    char_count = sum(len(line) for line in lines)\n",
        "  return line_count, word_count, char_count\n",
        "\n",
        "  file_path = '/content/example.txt'\n",
        "  lines, words, chars = count_text_file(file_path)\n",
        "  print(f'Lines: {lines}, Words: {words}, Characters: {chars}')"
      ],
      "metadata": {
        "id": "E19dcz8SqClE"
      },
      "execution_count": null,
      "outputs": []
    },
    {
      "cell_type": "markdown",
      "source": [
        "The w+ mode in python is used to open a file for both reading and writing. If the file does not exist, it will be created. If the file exists, it will be created. If the file exists, its content is truncated (i.e., the file is overwritten)."
      ],
      "metadata": {
        "id": "ruiIcqjasrmX"
      }
    },
    {
      "cell_type": "code",
      "source": [
        "## Writing and then reading a file\n",
        "with open('/content/example.txt','w+') as file:\n",
        "  file.write('Hello World!\\n')\n",
        "  file.write('This is a new line.\\n')\n",
        "\n",
        "  ## Move the file cursor to the beginning\n",
        "  #file.seek(0)\n",
        "\n",
        "  ## Read the content of the file\n",
        "  print(content)"
      ],
      "metadata": {
        "colab": {
          "base_uri": "https://localhost:8080/"
        },
        "id": "Em68ekPZtDbd",
        "outputId": "ad21bdaf-c19c-43b9-90c6-6f2ecbc6385c"
      },
      "execution_count": null,
      "outputs": [
        {
          "output_type": "stream",
          "name": "stdout",
          "text": [
            "Hello World!\n",
            "This is a new line.  Append operation taking place!First line \n",
            "Second line \n",
            "Third line \n",
            " Append operation taking place!\n",
            "\n"
          ]
        }
      ]
    },
    {
      "cell_type": "code",
      "source": [
        "## Create a new directory\n",
        "new_directory = \"package\"\n",
        "os.mkdir(new_directory)\n",
        "print(f\"Directory '{new_directory}' created successfully.\")"
      ],
      "metadata": {
        "colab": {
          "base_uri": "https://localhost:8080/"
        },
        "id": "0kW3IerstX4x",
        "outputId": "af80c628-e537-409a-c4cb-e921c39b4cc2"
      },
      "execution_count": null,
      "outputs": [
        {
          "output_type": "stream",
          "name": "stdout",
          "text": [
            "Directory 'package' created successfully.\n"
          ]
        }
      ]
    },
    {
      "cell_type": "code",
      "source": [
        "## Listing Files and Directories\n",
        "items = os.listdir('.')\n",
        "print(items)"
      ],
      "metadata": {
        "colab": {
          "base_uri": "https://localhost:8080/"
        },
        "id": "Fj3mjfbWtmvk",
        "outputId": "a81bab2d-241f-46cd-f3b8-5886998b6b1e"
      },
      "execution_count": null,
      "outputs": [
        {
          "output_type": "stream",
          "name": "stdout",
          "text": [
            "['.config', 'example.txt', 'package', 'example.bin', '.ipynb_checkpoints', 'sample_data', 'destination.txt']\n"
          ]
        }
      ]
    },
    {
      "cell_type": "code",
      "source": [
        "### Joining Paths\n",
        "\n",
        "dir_name = 'folder'\n",
        "file_name = 'file.txt'\n",
        "full_path = os.path.join(dir_name, file_name)\n",
        "print(full_path)"
      ],
      "metadata": {
        "colab": {
          "base_uri": "https://localhost:8080/"
        },
        "id": "KszJqLBStwVw",
        "outputId": "17ef8925-48ba-43a2-e575-ac3b1201e057"
      },
      "execution_count": null,
      "outputs": [
        {
          "output_type": "stream",
          "name": "stdout",
          "text": [
            "folder/file.txt\n"
          ]
        }
      ]
    },
    {
      "cell_type": "code",
      "source": [
        "### Joining Paths\n",
        "\n",
        "dir_name = 'folder'\n",
        "file_name = 'file.txt'\n",
        "full_path = os.path.join(os.getcwd(),dir_name, file_name)\n",
        "print(full_path)"
      ],
      "metadata": {
        "colab": {
          "base_uri": "https://localhost:8080/"
        },
        "id": "-H8Hs88DzYdm",
        "outputId": "7dc349ac-4af0-4e11-b109-d5dc63257c11"
      },
      "execution_count": null,
      "outputs": [
        {
          "output_type": "stream",
          "name": "stdout",
          "text": [
            "/content/folder/file.txt\n"
          ]
        }
      ]
    },
    {
      "cell_type": "code",
      "source": [
        "path = '/content/example1.txt'\n",
        "if os.path.exists(path):\n",
        "  print(f\"The path '{path} exists\")\n",
        "else:\n",
        "  print(f\"The path '{path} does not exists\")"
      ],
      "metadata": {
        "colab": {
          "base_uri": "https://localhost:8080/"
        },
        "id": "INzvW1JvzfU7",
        "outputId": "97970297-8b98-434a-c4b6-5ebb3a28e6bf"
      },
      "execution_count": null,
      "outputs": [
        {
          "output_type": "stream",
          "name": "stdout",
          "text": [
            "The path '/content/example1.txt does not exists\n"
          ]
        }
      ]
    },
    {
      "cell_type": "code",
      "source": [
        "# Checking if a path is a file or directory\n",
        "\n",
        "import os\n",
        "\n",
        "path = '/content/example.txt'\n",
        "if os.path.isfile(path):\n",
        "  print(f\"The path '{path}' is a file\")\n",
        "elif os.path.isdir(path):\n",
        "  print(f\"The path '{path}' is a directory\")\n",
        "else:\n",
        "  print(f\"The path '{path}' is neither a file nor a directory.\")"
      ],
      "metadata": {
        "colab": {
          "base_uri": "https://localhost:8080/"
        },
        "id": "N70Efar0z9-s",
        "outputId": "5c056ba4-4a2c-435b-a739-1ea4a64abb34"
      },
      "execution_count": null,
      "outputs": [
        {
          "output_type": "stream",
          "name": "stdout",
          "text": [
            "The path '/content/example.txt' is a file\n"
          ]
        }
      ]
    },
    {
      "cell_type": "code",
      "source": [
        "## Getting the absolute path\n",
        "relative_path = 'example.txt'\n",
        "absolute_path = os.path.abspath(relative_path)\n",
        "print(absolute_path)"
      ],
      "metadata": {
        "colab": {
          "base_uri": "https://localhost:8080/"
        },
        "id": "_ueK36cb0hrD",
        "outputId": "6818e73b-7ba2-4cb8-ba36-26308f963109"
      },
      "execution_count": null,
      "outputs": [
        {
          "output_type": "stream",
          "name": "stdout",
          "text": [
            "/content/example.txt\n"
          ]
        }
      ]
    }
  ]
}