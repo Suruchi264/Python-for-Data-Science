{
  "nbformat": 4,
  "nbformat_minor": 0,
  "metadata": {
    "colab": {
      "provenance": [],
      "authorship_tag": "ABX9TyPCsA/E2/m9V8RNcbCYkUb+",
      "include_colab_link": true
    },
    "kernelspec": {
      "name": "python3",
      "display_name": "Python 3"
    },
    "language_info": {
      "name": "python"
    }
  },
  "cells": [
    {
      "cell_type": "markdown",
      "metadata": {
        "id": "view-in-github",
        "colab_type": "text"
      },
      "source": [
        "<a href=\"https://colab.research.google.com/github/Suruchi264/Python-for-Data-Science/blob/main/Exception.ipynb\" target=\"_parent\"><img src=\"https://colab.research.google.com/assets/colab-badge.svg\" alt=\"Open In Colab\"/></a>"
      ]
    },
    {
      "cell_type": "markdown",
      "source": [
        "***UNDERSTANDING EXCEPTIONS***\n",
        "\n",
        "Exception handling in python allows you to handle errors gradually and take corrective actions without stopping the execution of the program."
      ],
      "metadata": {
        "id": "J_EkVAXP1aLH"
      }
    },
    {
      "cell_type": "markdown",
      "source": [
        "**WHAT ARE EXCEPTIONS ?**\n",
        "Exceptions are events that disrupt the normal flow of a program. They occur when an error is encountered during program execution. Common exceptions include:\n",
        "\n",
        "\n",
        "\n",
        "*   ZeroDivisionError : Dividing by zero.\n",
        "*   FileNotFoundError : File not found.\n",
        "*   ValueError : Invalid value.\n",
        "*   TypeError : Invalid type."
      ],
      "metadata": {
        "id": "605qNdHk5bVw"
      }
    },
    {
      "cell_type": "code",
      "source": [
        "a=b"
      ],
      "metadata": {
        "colab": {
          "base_uri": "https://localhost:8080/",
          "height": 141
        },
        "id": "LpmiuySU6ODi",
        "outputId": "61072b61-b81a-42ef-ccab-81650bf561c7"
      },
      "execution_count": null,
      "outputs": [
        {
          "output_type": "error",
          "ename": "NameError",
          "evalue": "name 'b' is not defined",
          "traceback": [
            "\u001b[0;31m---------------------------------------------------------------------------\u001b[0m",
            "\u001b[0;31mNameError\u001b[0m                                 Traceback (most recent call last)",
            "\u001b[0;32m<ipython-input-1-905401003>\u001b[0m in \u001b[0;36m<cell line: 0>\u001b[0;34m()\u001b[0m\n\u001b[0;32m----> 1\u001b[0;31m \u001b[0ma\u001b[0m\u001b[0;34m=\u001b[0m\u001b[0mb\u001b[0m\u001b[0;34m\u001b[0m\u001b[0;34m\u001b[0m\u001b[0m\n\u001b[0m",
            "\u001b[0;31mNameError\u001b[0m: name 'b' is not defined"
          ]
        }
      ]
    },
    {
      "cell_type": "code",
      "source": [
        "## Exception try, except block\n",
        "\n",
        "try:\n",
        "  a=b\n",
        "except:\n",
        "  print(\"The variable has not been assigned\")"
      ],
      "metadata": {
        "colab": {
          "base_uri": "https://localhost:8080/"
        },
        "id": "GEaB4JRC6Sf0",
        "outputId": "f53cf920-9173-473f-cd57-51e119c6d19c"
      },
      "execution_count": null,
      "outputs": [
        {
          "output_type": "stream",
          "name": "stdout",
          "text": [
            "The variable has not been assigned\n"
          ]
        }
      ]
    },
    {
      "cell_type": "code",
      "source": [
        "try:\n",
        "  a=b\n",
        "except NameError as ex:\n",
        "  print(ex)"
      ],
      "metadata": {
        "colab": {
          "base_uri": "https://localhost:8080/"
        },
        "id": "O72PO4lF6hD8",
        "outputId": "9dd942ff-5407-4fd5-f99c-d887128113c4"
      },
      "execution_count": null,
      "outputs": [
        {
          "output_type": "stream",
          "name": "stdout",
          "text": [
            "name 'b' is not defined\n"
          ]
        }
      ]
    },
    {
      "cell_type": "code",
      "metadata": {
        "colab": {
          "base_uri": "https://localhost:8080/"
        },
        "id": "f8e367b0",
        "outputId": "a59c51e4-97f2-467c-d8e7-5053f00a2077"
      },
      "source": [
        "try: # Start of the try block. Code that might raise an exception is placed here.\n",
        "  a=b # This line will raise a NameError because 'b' is not defined.\n",
        "except NameError as ex: # Start of the except block. This block is executed if a NameError occurs in the try block.\n",
        "  print(ex) # The exception object is assigned to the variable 'ex', and its string representation is printed.\n",
        "\n",
        "  ###A NameError in Python is a type of error that occurs when you try to use a variable or function name that has not\n",
        "  # been defined or assigned a value yet in the current scope. It essentially means Python doesn't know what you're referring to by that name.\n",
        "\n",
        "# This code demonstrates how to handle a NameError exception in Python.\n",
        "\n",
        "# try:: This block contains the code that is being monitored for potential exceptions.\n",
        "# a = b: This line attempts to assign the value of variable b to variable a. Since b has not been defined, this will cause a NameError.\n",
        "# except NameError as ex:: This block specifies what to do if a NameError occurs within the try block. The as ex part assigns the exception object to the variable ex.\n",
        "# print(ex): This line prints the string representation of the exception object, which in this case is the error message \"name 'b' is not defined\".\n",
        "# In summary, the code attempts to execute the try block. If a NameError occurs, the code in the except NameError block is executed, printing the specific error message.\n",
        "# This prevents the program from crashing due to the unhandled exception."
      ],
      "execution_count": null,
      "outputs": [
        {
          "output_type": "stream",
          "name": "stdout",
          "text": [
            "name 'b' is not defined\n"
          ]
        }
      ]
    },
    {
      "cell_type": "code",
      "source": [
        "result = 1/0"
      ],
      "metadata": {
        "colab": {
          "base_uri": "https://localhost:8080/",
          "height": 141
        },
        "id": "MCX7qo757Tns",
        "outputId": "ce5e6527-5072-47a7-d1c4-afa9cc0bb139"
      },
      "execution_count": null,
      "outputs": [
        {
          "output_type": "error",
          "ename": "ZeroDivisionError",
          "evalue": "division by zero",
          "traceback": [
            "\u001b[0;31m---------------------------------------------------------------------------\u001b[0m",
            "\u001b[0;31mZeroDivisionError\u001b[0m                         Traceback (most recent call last)",
            "\u001b[0;32m<ipython-input-6-3057287475>\u001b[0m in \u001b[0;36m<cell line: 0>\u001b[0;34m()\u001b[0m\n\u001b[0;32m----> 1\u001b[0;31m \u001b[0mresult\u001b[0m \u001b[0;34m=\u001b[0m \u001b[0;36m1\u001b[0m\u001b[0;34m/\u001b[0m\u001b[0;36m0\u001b[0m\u001b[0;34m\u001b[0m\u001b[0;34m\u001b[0m\u001b[0m\n\u001b[0m",
            "\u001b[0;31mZeroDivisionError\u001b[0m: division by zero"
          ]
        }
      ]
    },
    {
      "cell_type": "code",
      "source": [
        "try:\n",
        "  result = 1/0\n",
        "except ZeroDivisionError as ex:\n",
        "  print(ex)"
      ],
      "metadata": {
        "colab": {
          "base_uri": "https://localhost:8080/"
        },
        "id": "N6giN6vX7kYs",
        "outputId": "cd6637e6-edb0-4d55-cb34-190d234a3619"
      },
      "execution_count": null,
      "outputs": [
        {
          "output_type": "stream",
          "name": "stdout",
          "text": [
            "division by zero\n"
          ]
        }
      ]
    },
    {
      "cell_type": "code",
      "metadata": {
        "colab": {
          "base_uri": "https://localhost:8080/"
        },
        "id": "2562afe7",
        "outputId": "8c632276-fad2-4dfc-dc90-8fcfadd75d1c"
      },
      "source": [
        "try: # Start of the try block. Code that might raise an exception is placed here.\n",
        "  result = 1/0 # This line will raise a ZeroDivisionError because you cannot divide by zero.\n",
        "except ZeroDivisionError as ex: # Start of the except block. This block is executed if a ZeroDivisionError occurs in the try block.\n",
        "  print(ex) # The exception object is assigned to the variable 'ex', and its string representation is printed.\n",
        "\n",
        "\n",
        "# This code demonstrates how to handle a ZeroDivisionError exception in Python.\n",
        "\n",
        "# try:: This block contains the code that is being monitored for potential exceptions.\n",
        "# result = 1/0: This line attempts to perform division by zero, which is mathematically undefined and will cause a ZeroDivisionError in Python.\n",
        "# except ZeroDivisionError as ex:: This block specifies what to do if a ZeroDivisionError occurs within the try block. The as ex part assigns the exception object to the variable ex.\n",
        "# print(ex): This line prints the string representation of the exception object, which in this case is the error message \"division by zero\".\n",
        "# In summary, the code attempts to execute the try block. If a ZeroDivisionError occurs, the code in the except ZeroDivisionError block is executed, printing the specific error message.\n",
        "# This prevents the program from crashing due to the unhandled exception.\n",
        "# A ZeroDivisionError in Python occurs when you try to divide a number by zero. Division by zero is mathematically undefined, and Python raises this exception to\n",
        "# indicate that this operation is not possible."
      ],
      "execution_count": null,
      "outputs": [
        {
          "output_type": "stream",
          "name": "stdout",
          "text": [
            "division by zero\n"
          ]
        }
      ]
    },
    {
      "cell_type": "code",
      "source": [
        "try:\n",
        "  result = 1/0\n",
        "except ZeroDivisionError as ex:\n",
        "  print(ex)\n",
        "  print(\"Please enter the denominator greater than 0\")\n"
      ],
      "metadata": {
        "colab": {
          "base_uri": "https://localhost:8080/"
        },
        "id": "hplOD4LfNn-j",
        "outputId": "8f9ab821-e0e5-4cb3-99d5-4ff43ebebbdb"
      },
      "execution_count": null,
      "outputs": [
        {
          "output_type": "stream",
          "name": "stdout",
          "text": [
            "division by zero\n",
            "Please enter the denominator greater than 0\n"
          ]
        }
      ]
    },
    {
      "cell_type": "code",
      "source": [
        "try:\n",
        "  result = 1/2\n",
        "  a=b\n",
        "except ZeroDivisionError as ex:\n",
        "  print(ex)\n",
        "  print(\"Please enter the denominator greater than 0\")"
      ],
      "metadata": {
        "colab": {
          "base_uri": "https://localhost:8080/",
          "height": 211
        },
        "id": "3wMjpi9lN1iU",
        "outputId": "18f2a660-c73d-4be0-c2db-d7d1c8ab233f"
      },
      "execution_count": null,
      "outputs": [
        {
          "output_type": "error",
          "ename": "NameError",
          "evalue": "name 'b' is not defined",
          "traceback": [
            "\u001b[0;31m---------------------------------------------------------------------------\u001b[0m",
            "\u001b[0;31mNameError\u001b[0m                                 Traceback (most recent call last)",
            "\u001b[0;32m<ipython-input-12-1560477047>\u001b[0m in \u001b[0;36m<cell line: 0>\u001b[0;34m()\u001b[0m\n\u001b[1;32m      1\u001b[0m \u001b[0;32mtry\u001b[0m\u001b[0;34m:\u001b[0m\u001b[0;34m\u001b[0m\u001b[0;34m\u001b[0m\u001b[0m\n\u001b[1;32m      2\u001b[0m   \u001b[0mresult\u001b[0m \u001b[0;34m=\u001b[0m \u001b[0;36m1\u001b[0m\u001b[0;34m/\u001b[0m\u001b[0;36m2\u001b[0m\u001b[0;34m\u001b[0m\u001b[0;34m\u001b[0m\u001b[0m\n\u001b[0;32m----> 3\u001b[0;31m   \u001b[0ma\u001b[0m\u001b[0;34m=\u001b[0m\u001b[0mb\u001b[0m\u001b[0;34m\u001b[0m\u001b[0;34m\u001b[0m\u001b[0m\n\u001b[0m\u001b[1;32m      4\u001b[0m \u001b[0;32mexcept\u001b[0m \u001b[0mZeroDivisionError\u001b[0m \u001b[0;32mas\u001b[0m \u001b[0mex\u001b[0m\u001b[0;34m:\u001b[0m\u001b[0;34m\u001b[0m\u001b[0;34m\u001b[0m\u001b[0m\n\u001b[1;32m      5\u001b[0m   \u001b[0mprint\u001b[0m\u001b[0;34m(\u001b[0m\u001b[0mex\u001b[0m\u001b[0;34m)\u001b[0m\u001b[0;34m\u001b[0m\u001b[0;34m\u001b[0m\u001b[0m\n",
            "\u001b[0;31mNameError\u001b[0m: name 'b' is not defined"
          ]
        }
      ]
    },
    {
      "cell_type": "code",
      "source": [
        "try:\n",
        "  result = 1/2\n",
        "  a=b\n",
        "except ZeroDivisionError as ex:\n",
        "  print(ex)\n",
        "  print(\"Please enter the denominator greater than 0\")\n",
        "except Exception as ex1:\n",
        "  print(ex1)"
      ],
      "metadata": {
        "colab": {
          "base_uri": "https://localhost:8080/"
        },
        "id": "Je2H7gNKOG_O",
        "outputId": "ff3c7783-bc3c-45d5-d191-9cd2a703351f"
      },
      "execution_count": null,
      "outputs": [
        {
          "output_type": "stream",
          "name": "stdout",
          "text": [
            "name 'b' is not defined\n"
          ]
        }
      ]
    },
    {
      "cell_type": "code",
      "source": [
        "try:\n",
        "  result = 1/2\n",
        "  a=b\n",
        "except ZeroDivisionError as ex:\n",
        "  print(ex)\n",
        "  print(\"Please enter the denominator greater than 0\")\n",
        "except Exception as ex1:\n",
        "  print(ex1)\n",
        "  print(\"Main exception caught here\")"
      ],
      "metadata": {
        "colab": {
          "base_uri": "https://localhost:8080/"
        },
        "id": "nldb_gdIOO0Q",
        "outputId": "d1fd820a-d356-4fdb-d3b4-29598f374c12"
      },
      "execution_count": null,
      "outputs": [
        {
          "output_type": "stream",
          "name": "stdout",
          "text": [
            "name 'b' is not defined\n",
            "Main exception caught here\n"
          ]
        }
      ]
    },
    {
      "cell_type": "code",
      "metadata": {
        "colab": {
          "base_uri": "https://localhost:8080/"
        },
        "id": "168040c7",
        "outputId": "f1e70094-6140-488c-dcf7-b8544b0d0f0f"
      },
      "source": [
        "try: # Start of the try block. Code that might raise an exception is placed here.\n",
        "  result = 1/2 # This line performs a valid division and will not raise a ZeroDivisionError.\n",
        "  a=b # This line will raise a NameError because 'b' is not defined.\n",
        "except ZeroDivisionError as ex: # This block is executed if a ZeroDivisionError occurs in the try block.\n",
        "  print(ex) # Prints the ZeroDivisionError message.\n",
        "  print(\"Please enter the denominator greater than 0\") # Prints a user-friendly message.\n",
        "except Exception as ex1: # This block is executed if any other type of Exception occurs in the try block that wasn't caught by the previous except block.\n",
        "  print(ex1) # Prints the message of the caught exception (in this case, the NameError message).\n",
        "  print(\"Main exception caught here\") # Prints a message indicating that a general exception was caught.\n",
        "\n",
        "\n",
        "# This code demonstrates how to handle multiple potential exceptions in Python using try and multiple except blocks.\n",
        "\n",
        "# try:: This block contains the code that is being monitored for potential exceptions.\n",
        "# result = 1/2: This line performs a standard division. It will not raise a ZeroDivisionError.\n",
        "# a = b: This line attempts to assign the value of an undefined variable b to a, which will raise a NameError.\n",
        "# except ZeroDivisionError as ex:: This block is designed to catch specifically a ZeroDivisionError. If this type of exception occurs in the try block, the code within this except block is executed. In this specific code, since 1/2 is a valid operation, this block will not be executed.\n",
        "# print(ex): If a ZeroDivisionError were caught, this line would print the error message.\n",
        "# print(\"Please enter the denominator greater than 0\"): If a ZeroDivisionError were caught, this line would provide a user-friendly message.\n",
        "# except Exception as ex1:: This is a more general except block. It will catch any exception that is not specifically caught by the preceding except blocks. In this case, the NameError raised by a = b will be caught here because it is not a ZeroDivisionError. The as ex1 part assigns the exception object to the variable ex1.\n",
        "# print(ex1): This line prints the message of the exception caught by the except Exception block, which will be the NameError message \"name 'b' is not defined\".\n",
        "# print(\"Main exception caught here\"): This line prints a message indicating that a general exception was caught.\n",
        "# In summary, the code attempts to execute the try block. It performs the division successfully but then encounters a NameError. Since the NameError is not a ZeroDivisionError, it is caught by the except Exception block. The code within that block is then executed, printing the NameError message and the \"Main exception caught here\" message. This demonstrates how to use multiple except blocks to handle different types of exceptions and a general except Exception to catch any uncaught exceptions."
      ],
      "execution_count": null,
      "outputs": [
        {
          "output_type": "stream",
          "name": "stdout",
          "text": [
            "name 'b' is not defined\n",
            "Main exception caught here\n"
          ]
        }
      ]
    },
    {
      "cell_type": "code",
      "source": [
        "try:\n",
        "  num = int(input(\"Enter a number: \"))\n",
        "  result = 10/num\n",
        "except ValueError:\n",
        "  print(\"This is not a valid number\")\n",
        "except ZeroDivisionError:\n",
        "  print(\"Enter denominator greater than 0\")"
      ],
      "metadata": {
        "colab": {
          "base_uri": "https://localhost:8080/"
        },
        "id": "WoOxHy84PV9g",
        "outputId": "32b2b139-ff7b-4aeb-8acb-045550778231"
      },
      "execution_count": null,
      "outputs": [
        {
          "output_type": "stream",
          "name": "stdout",
          "text": [
            "Enter a number: w\n",
            "This is not a valid number\n"
          ]
        }
      ]
    },
    {
      "cell_type": "code",
      "source": [
        "try:\n",
        "  num = int(input(\"Enter a number: \"))\n",
        "  result = 10/num\n",
        "except ValueError:\n",
        "  print(\"This is not a valid number\")\n",
        "except ZeroDivisionError:\n",
        "  print(\"Enter denominator greater than 0\")\n",
        "except Exception as ex:\n",
        "  print(ex)\n",
        "\n",
        "# The last except Exception as ex: block is included as a general catch-all.\n",
        "# In the context of exception handling in Python, a \"general catch-all\" refers to an except block that catches a broad category of exceptions,\n",
        "# typically using except Exception: or just except:."
      ],
      "metadata": {
        "colab": {
          "base_uri": "https://localhost:8080/"
        },
        "id": "hfZO3gKAPOpb",
        "outputId": "938e191f-6ca9-45c1-f404-99036820c109"
      },
      "execution_count": null,
      "outputs": [
        {
          "output_type": "stream",
          "name": "stdout",
          "text": [
            "Enter a number: e\n",
            "This is not a valid number\n"
          ]
        }
      ]
    },
    {
      "cell_type": "code",
      "source": [
        "## try, except, else block\n",
        "try:\n",
        "  num = int(input(\"Enter a number: \"))\n",
        "  result = 10/num\n",
        "except ValueError:\n",
        "  print(\"This is not a valid number\")\n",
        "except ZeroDivisionError:\n",
        "  print(\"Enter denominator greater than 0\")\n",
        "except Exception as ex:\n",
        "  print(ex)\n",
        "else:\n",
        "  print(f\"The result is {result}\")\n",
        "finally:\n",
        "  print(\"Execution is completed!\")"
      ],
      "metadata": {
        "colab": {
          "base_uri": "https://localhost:8080/"
        },
        "id": "ORUJ5p6CQZ7L",
        "outputId": "245dc77c-d384-4148-eb7b-9a84e8c3281b"
      },
      "execution_count": null,
      "outputs": [
        {
          "output_type": "stream",
          "name": "stdout",
          "text": [
            "Enter a number: 5\n",
            "The result is 2.0\n",
            "Execution is completed!\n"
          ]
        }
      ]
    },
    {
      "cell_type": "markdown",
      "source": [
        "*Difference between the above 2 codes is given as follows - *"
      ],
      "metadata": {
        "id": "EGSGZlnCRE5R"
      }
    },
    {
      "cell_type": "markdown",
      "metadata": {
        "id": "8e131ffc"
      },
      "source": [
        "In a `try...except...else` structure:\n",
        "\n",
        "*   The code in the **`try`** block is executed first.\n",
        "*   If an exception occurs during the execution of the `try` block, the corresponding **`except`** block is executed.\n",
        "*   The **`else`** block is executed **only if** the code inside the `try` block completes successfully **without raising any exceptions**.\n",
        "\n",
        "In your first code snippet, if the `try` block executes without errors, nothing specific happens after the `try` and `except` blocks.\n",
        "\n",
        "In your second code snippet, if the user enters a valid number and the division is successful (i.e., no `ValueError` or `ZeroDivisionError` occurs), the code inside the `else` block will be executed, printing the calculated `result`."
      ]
    },
    {
      "cell_type": "code",
      "source": [
        "### File Handling and Exception Handling\n",
        "\n",
        "try:\n",
        "  file = open('/content/example1.txt','r')\n",
        "  content = file.read()\n",
        "  a=b\n",
        "  print(content)\n",
        "except FileNotFoundError:\n",
        "  print(\"The file does not exists\")\n",
        "except Exception as ex:\n",
        "  print(ex)\n",
        "finally:\n",
        "  if 'file' in locals() or not file.closed():\n",
        "    file.close()\n",
        "    print('file close')"
      ],
      "metadata": {
        "colab": {
          "base_uri": "https://localhost:8080/"
        },
        "id": "GN_CyQHvRj20",
        "outputId": "26423b28-adb9-4d53-9faa-c0bdaee1cf74"
      },
      "execution_count": null,
      "outputs": [
        {
          "output_type": "stream",
          "name": "stdout",
          "text": [
            "name 'b' is not defined\n",
            "file close\n"
          ]
        }
      ]
    }
  ]
}