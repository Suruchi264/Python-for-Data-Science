{
  "nbformat": 4,
  "nbformat_minor": 0,
  "metadata": {
    "colab": {
      "provenance": [],
      "authorship_tag": "ABX9TyMDW1InxM+u+XT0A69WO6Cl",
      "include_colab_link": true
    },
    "kernelspec": {
      "name": "python3",
      "display_name": "Python 3"
    },
    "language_info": {
      "name": "python"
    }
  },
  "cells": [
    {
      "cell_type": "markdown",
      "metadata": {
        "id": "view-in-github",
        "colab_type": "text"
      },
      "source": [
        "<a href=\"https://colab.research.google.com/github/Suruchi264/Python-for-Data-Science/blob/main/Operator_Overloading.ipynb\" target=\"_parent\"><img src=\"https://colab.research.google.com/assets/colab-badge.svg\" alt=\"Open In Colab\"/></a>"
      ]
    },
    {
      "cell_type": "markdown",
      "source": [
        "## ***OPERATOR OVERLOADING***\n",
        "\n",
        "\n",
        "Operator overloading allows you to define the behavior of operators(+,-,*,etc) for custom objects. You achieve this by overriding specific magic methods in your class."
      ],
      "metadata": {
        "id": "7qmBpNJ5Rfh7"
      }
    },
    {
      "cell_type": "code",
      "source": [
        "# Common Operator Overloading Magic Methods\n",
        "\n",
        "'''\n",
        "__add__(self, other): Defines the behavior for the + operator.\n",
        "__sub__(self, other): Defines the behavior for the - operator.\n",
        "__mul__(self, other): Defines the behavior for the * operator.\n",
        "__truediv__(self, other): Defines the behavior for the / operator.\n",
        "__floordiv__(self, other): Defines the behavior for the // operator.\n",
        "__mod__(self, other): Defines the behavior for the % operator.\n",
        "__eq__(self, other): Defines the behavior for the == operator.\n",
        "__it__(self,other): Checks if one object is less than another using the < operator.\n",
        "\n",
        "'''"
      ],
      "metadata": {
        "colab": {
          "base_uri": "https://localhost:8080/",
          "height": 139
        },
        "id": "HS-HNW2nR1p1",
        "outputId": "50a7b885-29fa-4645-dc1e-19bd486f31fa"
      },
      "execution_count": 1,
      "outputs": [
        {
          "output_type": "execute_result",
          "data": {
            "text/plain": [
              "'\\n__add__(self, other): Defines the behavior for the + operator.\\n__sub__(self, other): Defines the behavior for the - operator.\\n__mul__(self, other): Defines the behavior for the * operator.\\n__truediv__(self, other): Defines the behavior for the / operator.\\n__floordiv__(self, other): Defines the behavior for the // operator.\\n__mod__(self, other): Defines the behavior for the % operator.\\n__eq__(self, other): Defines the behavior for the == operator.\\n__it__(self,other): Checks if one object is less than another using the < operator.\\n\\n'"
            ],
            "application/vnd.google.colaboratory.intrinsic+json": {
              "type": "string"
            }
          },
          "metadata": {},
          "execution_count": 1
        }
      ]
    },
    {
      "cell_type": "code",
      "source": [
        "1-1"
      ],
      "metadata": {
        "colab": {
          "base_uri": "https://localhost:8080/"
        },
        "id": "ojZVcB4uSX37",
        "outputId": "4cd4f5e2-7d55-4b20-8b01-0816fb867823"
      },
      "execution_count": 2,
      "outputs": [
        {
          "output_type": "execute_result",
          "data": {
            "text/plain": [
              "0"
            ]
          },
          "metadata": {},
          "execution_count": 2
        }
      ]
    },
    {
      "cell_type": "code",
      "source": [
        "12>6"
      ],
      "metadata": {
        "colab": {
          "base_uri": "https://localhost:8080/"
        },
        "id": "7v-YUOnYSZNy",
        "outputId": "6b8ed210-d545-4623-f31f-51e55de8c95f"
      },
      "execution_count": 3,
      "outputs": [
        {
          "output_type": "execute_result",
          "data": {
            "text/plain": [
              "True"
            ]
          },
          "metadata": {},
          "execution_count": 3
        }
      ]
    },
    {
      "cell_type": "code",
      "source": [
        "### Mathematical operation for vectors\n",
        "class Vector:\n",
        "  def __init__(self,x,y):\n",
        "    self.x=x\n",
        "    self.y=y\n",
        "\n",
        "  def __add__(self,other):\n",
        "    return Vector(self.x - other.x, self.y - other.y)\n",
        "\n",
        "  def __mul__(self,other):\n",
        "    return Vector(self.x * other.x, self.y * other.y)\n",
        "\n",
        "  def __eq__(self,other):\n",
        "    return self.x == other.x and self.y == other.y\n",
        "\n",
        "  def __repr__(self):\n",
        "    return f\"Vector({self.x},{self.y})\"\n",
        "\n",
        "## Create objects of the vector class\n",
        "v1 = Vector(2,3)\n",
        "v2 = Vector(4,5)\n",
        "\n",
        "print(v1+v2)\n",
        "print(v1*v2)\n",
        "print(v1==v2)"
      ],
      "metadata": {
        "colab": {
          "base_uri": "https://localhost:8080/"
        },
        "id": "r_m2LBjpShTh",
        "outputId": "7c9b5451-9dbf-4c74-872c-db530976a339"
      },
      "execution_count": 4,
      "outputs": [
        {
          "output_type": "stream",
          "name": "stdout",
          "text": [
            "Vector(-2,-2)\n",
            "Vector(8,15)\n",
            "False\n"
          ]
        }
      ]
    },
    {
      "cell_type": "code",
      "source": [
        "### Overloading Operators for Complex Numbers\n",
        "\n",
        "class ComplexNumber:\n",
        "  def __init__(self,real,imag):\n",
        "    self.real=real\n",
        "    self.imag=imag\n",
        "\n",
        "  def __add__(self,other):\n",
        "    return ComplexNumber(self.real + other.real, self.imag + other.imag)\n",
        "\n",
        "  def __sub__(self, other):\n",
        "    return ComplexNumber(self.real - other.real, self.imag - other.imag)\n",
        "\n",
        "  def __mul__(self, other):\n",
        "    real_part = self.real * other.real - self.imag * other.imag\n",
        "    imag_part = self.real * other.imag + self.imag * other.real\n",
        "    return ComplexNumber(real_part, imag_part)\n",
        "\n",
        "  def __truediv__(self, other):\n",
        "    denominator = other.real**2 + other.imag**2\n",
        "    real_part = (self.real * other.real + self.imag * other.imag) / denominator\n",
        "    imag_part = (self.imag * other.real - self.real * other.imag) / denominator\n",
        "    return ComplexNumber(real_part, imag_part)\n",
        "\n",
        "  def __eq__(self,other):\n",
        "    return self.real == other.real and self.imag == other.imag\n",
        "\n",
        "  def __repr__(self):\n",
        "    return f\"{self.real} + {self.imag}i\"\n",
        "\n",
        "# Create objects of the ComplexNumber Class\n",
        "c1 = ComplexNumber(2,3)\n",
        "c2 = ComplexNumber(4,5)\n",
        "\n",
        "# Use overload operators\n",
        "print(c1+c2)\n",
        "print(c1-c2)\n",
        "print(c1*c2)\n",
        "print(c1/c2)"
      ],
      "metadata": {
        "colab": {
          "base_uri": "https://localhost:8080/"
        },
        "id": "EAlzHMvkT1oa",
        "outputId": "1bb0d177-5c08-4590-e0d2-dadd65654d40"
      },
      "execution_count": 5,
      "outputs": [
        {
          "output_type": "stream",
          "name": "stdout",
          "text": [
            "6 + 8i\n",
            "-2 + -2i\n",
            "-7 + 22i\n",
            "0.5609756097560976 + 0.04878048780487805i\n"
          ]
        }
      ]
    }
  ]
}