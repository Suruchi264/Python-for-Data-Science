{
  "nbformat": 4,
  "nbformat_minor": 0,
  "metadata": {
    "colab": {
      "provenance": [],
      "authorship_tag": "ABX9TyOa0JjqMSY1useu1FCoTnzv",
      "include_colab_link": true
    },
    "kernelspec": {
      "name": "python3",
      "display_name": "Python 3"
    },
    "language_info": {
      "name": "python"
    }
  },
  "cells": [
    {
      "cell_type": "markdown",
      "metadata": {
        "id": "view-in-github",
        "colab_type": "text"
      },
      "source": [
        "<a href=\"https://colab.research.google.com/github/Suruchi264/Python-for-Data-Science/blob/main/Polymorphism.ipynb\" target=\"_parent\"><img src=\"https://colab.research.google.com/assets/colab-badge.svg\" alt=\"Open In Colab\"/></a>"
      ]
    },
    {
      "cell_type": "markdown",
      "source": [
        "***POLYMORPHISM ***\n",
        "\n",
        "Polymorphism is a core OOP that allows objects to different classes to be treated as objects of a common superclass. It provides a way to perform a single action in different forms. Polymorphism is typically achieved through method overriding and interfaces."
      ],
      "metadata": {
        "id": "LX6iy4UR0ARq"
      }
    },
    {
      "cell_type": "markdown",
      "source": [
        "**METHOD OVERRIDING **\n",
        "\n",
        "Method overriding allows a class to provide a specific implementation of a method that is already defined in its parent class."
      ],
      "metadata": {
        "id": "cY91gqSz1eLa"
      }
    },
    {
      "cell_type": "code",
      "source": [
        "## Base class\n",
        "class Animal:\n",
        "  def speak(self):\n",
        "    return \"Sound of the animal\"\n",
        "\n",
        "## Derived Class 1\n",
        "class Dog(Animal):\n",
        "  def speak(self):\n",
        "    return \"Woof\"\n",
        "\n",
        "## Derived Class 2\n",
        "class Cat(Animal):\n",
        "  def speak(self):\n",
        "    return \"Meow\"\n",
        "\n",
        "#Function that demonstrates polymorphism\n",
        "def animal_speak(animal):\n",
        "  print(animal_speak)\n",
        "\n",
        "dog = Dog()\n",
        "cat = Cat()\n",
        "print(dog.speak())\n",
        "print(cat.speak())\n",
        "print(dog)"
      ],
      "metadata": {
        "colab": {
          "base_uri": "https://localhost:8080/"
        },
        "id": "HkxnnBrp1psP",
        "outputId": "ac37bcff-5755-484d-9e66-01ce0c866e78"
      },
      "execution_count": null,
      "outputs": [
        {
          "output_type": "stream",
          "name": "stdout",
          "text": [
            "Woof\n",
            "Meow\n",
            "<__main__.Dog object at 0x7bf1145b1a90>\n"
          ]
        }
      ]
    },
    {
      "cell_type": "code",
      "source": [
        "### Polymorphism with functions and methods\n",
        "## Base class\n",
        "class Shape:\n",
        "  def area(self):\n",
        "    return \"The area of the figure\"\n",
        "\n",
        "## Derived class 2\n",
        "class Rectangle(Shape):\n",
        "  def __init__(self,width,height):\n",
        "    self.width = width\n",
        "    self.height = height\n",
        "\n",
        "  def area(self):\n",
        "    return self.width * self.height\n",
        "\n",
        "## Derived class 2\n",
        "class Circle(Shape):\n",
        "  def __init__(self,radius):\n",
        "    self.radius = radius\n",
        "\n",
        "  def area(self):\n",
        "    return 3.14 * self.radius * self.radius\n",
        "\n",
        "## Derived class 2\n",
        "class Circle(Shape):\n",
        "  def __init__(self,radius):\n",
        "    self.radius = radius\n",
        "\n",
        "  def area(self):\n",
        "    return 3.14*self.radius * self.radius\n",
        "\n",
        "\n",
        "## Function that demonstrates polymorphism\n",
        "def print_area(shape):\n",
        "  print(f\"The area is {shape.area()}\")\n",
        "\n",
        "rectangle = Rectangle(4,5)\n",
        "circle = Circle(3)\n",
        "\n",
        "print_area(rectangle)\n",
        "print_area(circle)"
      ],
      "metadata": {
        "colab": {
          "base_uri": "https://localhost:8080/"
        },
        "id": "u4vYehN42g60",
        "outputId": "6a0de3d2-c0a9-415a-88bc-8a08e323fdbd"
      },
      "execution_count": null,
      "outputs": [
        {
          "output_type": "stream",
          "name": "stdout",
          "text": [
            "The area is 20\n",
            "The area is 28.259999999999998\n"
          ]
        }
      ]
    },
    {
      "cell_type": "markdown",
      "source": [
        "***POLYMORPHISM WITH ABSTRACT CLASS***\n",
        "\n",
        "Abstract Base Classes(ABCs) are used to define common methods for a group of related objects. They can enforce that derived classes implement particular methods, promoting consistency across difference implementations."
      ],
      "metadata": {
        "id": "PtJK8zKj7UXL"
      }
    },
    {
      "cell_type": "code",
      "source": [
        "from abc import ABC,abstractmethod\n",
        "\n",
        "## Define an abstract class\n",
        "class Vehicle(ABC):\n",
        "  @abstractmethod\n",
        "  def start_engine(self):\n",
        "    pass\n",
        "\n",
        "## Derived class 1\n",
        "class Car(Vehicle):\n",
        "  def start_engine(self):\n",
        "    return \"Car engine started\"\n",
        "\n",
        "## Derived class 2\n",
        "class Motorcycle(Vehicle):\n",
        "  def start_engine(self):\n",
        "    return \"Motorcycle engine started\"\n",
        "\n",
        "## Function that demonstrates polymorphism\n",
        "def start_vehicle(vehicle):\n",
        "  print(vehicle.start_engine())\n",
        "\n",
        "## Create objects of car and motorcycle\n",
        "car = Car()\n",
        "morotcycle = Motorcycle()\n",
        "\n",
        "start_vehicle(car)\n",
        "start_vehicle(morotcycle)"
      ],
      "metadata": {
        "colab": {
          "base_uri": "https://localhost:8080/"
        },
        "id": "vjaupj4m7oMX",
        "outputId": "39c6e5cf-e5aa-4510-a27a-ce48b800e710"
      },
      "execution_count": null,
      "outputs": [
        {
          "output_type": "stream",
          "name": "stdout",
          "text": [
            "Car engine started\n",
            "Motorcycle engine started\n"
          ]
        }
      ]
    },
    {
      "cell_type": "markdown",
      "source": [
        "***CONCLUSION***\n",
        "\n",
        "Polymorphism is a powerful feature of OOP that allows for flexibility and integration in code design. It enables a single function to handle objects of different classes, each with its own implementation of a method. By understanding and applying polymorphism, you can create more extensible and maintainable object-oriented programs."
      ],
      "metadata": {
        "id": "EXwzJGlV91ZM"
      }
    }
  ]
}