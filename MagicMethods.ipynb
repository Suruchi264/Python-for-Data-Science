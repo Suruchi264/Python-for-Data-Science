{
  "nbformat": 4,
  "nbformat_minor": 0,
  "metadata": {
    "colab": {
      "provenance": [],
      "authorship_tag": "ABX9TyNgqRTAMeW65p0QpNeO8ECM",
      "include_colab_link": true
    },
    "kernelspec": {
      "name": "python3",
      "display_name": "Python 3"
    },
    "language_info": {
      "name": "python"
    }
  },
  "cells": [
    {
      "cell_type": "markdown",
      "metadata": {
        "id": "view-in-github",
        "colab_type": "text"
      },
      "source": [
        "<a href=\"https://colab.research.google.com/github/Suruchi264/Python-for-Data-Science/blob/main/MagicMethods.ipynb\" target=\"_parent\"><img src=\"https://colab.research.google.com/assets/colab-badge.svg\" alt=\"Open In Colab\"/></a>"
      ]
    },
    {
      "cell_type": "markdown",
      "source": [
        "***MAGIC METHODS***\n",
        "\n",
        "Magic methods in python, also known as dunder methods(double underscore methods), are special methods that start end with double underscores. These methods enable you to define the behavior of objects for built-in operations, such as arithmetic operations, comparisons, and more.\n",
        "\n",
        "\n"
      ],
      "metadata": {
        "id": "V6-jKjm_4JvK"
      }
    },
    {
      "cell_type": "code",
      "source": [
        "# Magic methods are predefined methods in python that you can override to change the behavior of your objects. Some common magic methods include:\n",
        "\n",
        "\n",
        "\n",
        "# *   __init__: Initializes a new instance of a class.\n",
        "# *   __str__: Returns a string representation of an object.\n",
        "# *  __repr__: Returns an official string representation of an object.\n",
        "# *   __len__: Returns the length of an object.\n",
        "# *   __getitem__: Gets an item from a container.\n",
        "# *   __setitem__: Set an item in a container."
      ],
      "metadata": {
        "id": "SPURu3NI6noC"
      },
      "execution_count": null,
      "outputs": []
    },
    {
      "cell_type": "code",
      "source": [
        "class Person:\n",
        "  pass\n",
        "\n",
        "person = Person()\n",
        "dir(person)"
      ],
      "metadata": {
        "colab": {
          "base_uri": "https://localhost:8080/"
        },
        "id": "TKbLz8taK8Ul",
        "outputId": "900f60a8-4471-4c6d-8637-f4f5d96568c7"
      },
      "execution_count": null,
      "outputs": [
        {
          "output_type": "execute_result",
          "data": {
            "text/plain": [
              "['__class__',\n",
              " '__delattr__',\n",
              " '__dict__',\n",
              " '__dir__',\n",
              " '__doc__',\n",
              " '__eq__',\n",
              " '__format__',\n",
              " '__ge__',\n",
              " '__getattribute__',\n",
              " '__getstate__',\n",
              " '__gt__',\n",
              " '__hash__',\n",
              " '__init__',\n",
              " '__init_subclass__',\n",
              " '__le__',\n",
              " '__lt__',\n",
              " '__module__',\n",
              " '__ne__',\n",
              " '__new__',\n",
              " '__reduce__',\n",
              " '__reduce_ex__',\n",
              " '__repr__',\n",
              " '__setattr__',\n",
              " '__sizeof__',\n",
              " '__str__',\n",
              " '__subclasshook__',\n",
              " '__weakref__']"
            ]
          },
          "metadata": {},
          "execution_count": 1
        }
      ]
    },
    {
      "cell_type": "code",
      "source": [
        "print(person)"
      ],
      "metadata": {
        "colab": {
          "base_uri": "https://localhost:8080/"
        },
        "id": "YGy3lfMdLLMd",
        "outputId": "fbca7b66-8630-4ef7-de3d-f6caee94074c"
      },
      "execution_count": null,
      "outputs": [
        {
          "output_type": "stream",
          "name": "stdout",
          "text": [
            "<__main__.Person object at 0x7c0287662990>\n"
          ]
        }
      ]
    },
    {
      "cell_type": "code",
      "source": [
        "## Basics Methods\n",
        "class Person:\n",
        "  def __init__(self,name,age):\n",
        "    self.name = name\n",
        "    self.age = age\n",
        "\n",
        "  def __str__(self):\n",
        "    return f\"{self.name} is {self.age} years old.\"\n",
        "\n",
        "  def __repr__(self):\n",
        "    return f\"Person(name={self.name},age={self.age})\"\n",
        "\n",
        "person = Person(\"Suruchi\",22)\n",
        "print(person)\n",
        "print(repr(person))"
      ],
      "metadata": {
        "colab": {
          "base_uri": "https://localhost:8080/"
        },
        "id": "z6PXLYZ0LV5p",
        "outputId": "3604f872-b184-415e-95f5-7426c773b1ca"
      },
      "execution_count": 1,
      "outputs": [
        {
          "output_type": "stream",
          "name": "stdout",
          "text": [
            "Suruchi is 22 years old.\n",
            "Person(name=Suruchi,age=22)\n"
          ]
        }
      ]
    }
  ]
}