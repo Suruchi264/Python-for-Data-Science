{
  "nbformat": 4,
  "nbformat_minor": 0,
  "metadata": {
    "colab": {
      "provenance": [],
      "authorship_tag": "ABX9TyPTPfFJcDUwOjANbc1Xogac",
      "include_colab_link": true
    },
    "kernelspec": {
      "name": "python3",
      "display_name": "Python 3"
    },
    "language_info": {
      "name": "python"
    }
  },
  "cells": [
    {
      "cell_type": "markdown",
      "metadata": {
        "id": "view-in-github",
        "colab_type": "text"
      },
      "source": [
        "<a href=\"https://colab.research.google.com/github/Suruchi264/Python-for-Data-Science/blob/main/Abstraction.ipynb\" target=\"_parent\"><img src=\"https://colab.research.google.com/assets/colab-badge.svg\" alt=\"Open In Colab\"/></a>"
      ]
    },
    {
      "cell_type": "markdown",
      "source": [
        "***ABSTRACTION***\n",
        "\n",
        "Abstraction is the concept of hiding the complex implementation details and showing only the necessary features of an object. This helps in reducing programming complexity and effort."
      ],
      "metadata": {
        "id": "lvTp57R31v-Y"
      }
    },
    {
      "cell_type": "code",
      "source": [
        "from abc import ABC, abstractmethod\n",
        "\n",
        "## Abstract base class\n",
        "class Vehicle(ABC):\n",
        "  def drive(self):\n",
        "    print(\"The vehicle is used for driving\")\n",
        "\n",
        "  @abstractmethod\n",
        "  def start_engine(self):\n",
        "    pass\n",
        "\n",
        "class Car(Vehicle):\n",
        "  def start_engine(self):\n",
        "    print(\"The car engine is started\")\n",
        "\n",
        "def operate_vehicle(vehicle):\n",
        "  vehicle.start_engine()\n",
        "\n",
        "car = Car()\n",
        "operate_vehicle(car)"
      ],
      "metadata": {
        "colab": {
          "base_uri": "https://localhost:8080/"
        },
        "id": "2__pLPFI2aOb",
        "outputId": "b081e8cc-c845-4a18-9826-e62648b077ca"
      },
      "execution_count": 1,
      "outputs": [
        {
          "output_type": "stream",
          "name": "stdout",
          "text": [
            "The car engine is started\n"
          ]
        }
      ]
    }
  ]
}