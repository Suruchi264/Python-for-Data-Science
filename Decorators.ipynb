{
  "nbformat": 4,
  "nbformat_minor": 0,
  "metadata": {
    "colab": {
      "provenance": [],
      "authorship_tag": "ABX9TyMjio4+vHLIfXfPulwC8qJd",
      "include_colab_link": true
    },
    "kernelspec": {
      "name": "python3",
      "display_name": "Python 3"
    },
    "language_info": {
      "name": "python"
    }
  },
  "cells": [
    {
      "cell_type": "markdown",
      "metadata": {
        "id": "view-in-github",
        "colab_type": "text"
      },
      "source": [
        "<a href=\"https://colab.research.google.com/github/Suruchi264/Python-for-Data-Science/blob/main/Decorators.ipynb\" target=\"_parent\"><img src=\"https://colab.research.google.com/assets/colab-badge.svg\" alt=\"Open In Colab\"/></a>"
      ]
    },
    {
      "cell_type": "markdown",
      "source": [
        "***DECORATORS***\n",
        "\n",
        "Decorators are a powerful and flexible feature in python that allows you to modify the behavior of a function or class method. They are commonly used to add functionality to functions or methods without modifying their actual code.\n",
        "\n",
        "\n",
        "1.   Function copy\n",
        "2.   Closures\n",
        "3.   Decorators"
      ],
      "metadata": {
        "id": "sXuBd3H1AXUv"
      }
    },
    {
      "cell_type": "code",
      "source": [
        "## function copy\n",
        "def welcome():\n",
        "  return \"welcome to python\"\n",
        "\n",
        "welcome()"
      ],
      "metadata": {
        "colab": {
          "base_uri": "https://localhost:8080/",
          "height": 35
        },
        "id": "9Ui6RBnvApHa",
        "outputId": "0576987b-2298-407f-c034-8adefa9295aa"
      },
      "execution_count": 5,
      "outputs": [
        {
          "output_type": "execute_result",
          "data": {
            "text/plain": [
              "'welcome to python'"
            ],
            "application/vnd.google.colaboratory.intrinsic+json": {
              "type": "string"
            }
          },
          "metadata": {},
          "execution_count": 5
        }
      ]
    },
    {
      "cell_type": "code",
      "source": [
        "wel = welcome\n",
        "print(wel())\n",
        "del welcome\n",
        "print(wel())"
      ],
      "metadata": {
        "colab": {
          "base_uri": "https://localhost:8080/"
        },
        "id": "4o8t1HpNBGHq",
        "outputId": "c34cea9f-62a2-4cf9-8a4a-fedff0f1b99f"
      },
      "execution_count": 6,
      "outputs": [
        {
          "output_type": "stream",
          "name": "stdout",
          "text": [
            "welcome to python\n",
            "welcome to python\n"
          ]
        }
      ]
    },
    {
      "cell_type": "code",
      "source": [
        "## closures\n",
        "\n",
        "def main_welcome():\n",
        "  msg = \"Welcome\"\n",
        "  def sub_welcome_method():\n",
        "    print(\"Welcome to advanced python course\")\n",
        "    print(msg)\n",
        "    print(\"Please learn these concepts properly\")\n",
        "\n",
        "  return sub_welcome_method()"
      ],
      "metadata": {
        "id": "AMyZO-xFBQD7"
      },
      "execution_count": 9,
      "outputs": []
    },
    {
      "cell_type": "code",
      "source": [
        "main_welcome()"
      ],
      "metadata": {
        "colab": {
          "base_uri": "https://localhost:8080/"
        },
        "id": "SSec745BB37f",
        "outputId": "0602a5fc-73b3-4b1c-878d-8475d828efa0"
      },
      "execution_count": 10,
      "outputs": [
        {
          "output_type": "stream",
          "name": "stdout",
          "text": [
            "Welcome to advanced python course\n",
            "Welcome\n",
            "Please learn these concepts properly\n"
          ]
        }
      ]
    },
    {
      "cell_type": "code",
      "source": [
        "##\n",
        "\n",
        "def main_welcome(func):\n",
        "\n",
        "  def sub_welcome_method():\n",
        "    print(\"Welcome to advanced python course\")\n",
        "    print(func)\n",
        "    print(\"Please learn these concepts properly\")\n",
        "\n",
        "  return sub_welcome_method()"
      ],
      "metadata": {
        "id": "g2zOogxrCDby"
      },
      "execution_count": 11,
      "outputs": []
    },
    {
      "cell_type": "code",
      "source": [
        "main_welcome(print)"
      ],
      "metadata": {
        "colab": {
          "base_uri": "https://localhost:8080/"
        },
        "id": "l494T8_RCOap",
        "outputId": "b1db1271-d42c-4c1d-94ed-1d13fe3e14ca"
      },
      "execution_count": 12,
      "outputs": [
        {
          "output_type": "stream",
          "name": "stdout",
          "text": [
            "Welcome to advanced python course\n",
            "<built-in function print>\n",
            "Please learn these concepts properly\n"
          ]
        }
      ]
    },
    {
      "cell_type": "code",
      "source": [
        "##\n",
        "\n",
        "def main_welcome(func):\n",
        "\n",
        "  def sub_welcome_method():\n",
        "    print(\"Welcome to advanced python course\")\n",
        "    print(\"Welcome everyone to this tutorial\")\n",
        "    print(\"Please learn these concepts properly\")\n",
        "\n",
        "  return sub_welcome_method()"
      ],
      "metadata": {
        "id": "4vLQ13tHCSiV"
      },
      "execution_count": 13,
      "outputs": []
    },
    {
      "cell_type": "code",
      "source": [
        "main_welcome(print)"
      ],
      "metadata": {
        "colab": {
          "base_uri": "https://localhost:8080/"
        },
        "id": "7iwreT33CXkg",
        "outputId": "5daa56db-2159-4734-db51-0171e3dac2b6"
      },
      "execution_count": 14,
      "outputs": [
        {
          "output_type": "stream",
          "name": "stdout",
          "text": [
            "Welcome to advanced python course\n",
            "Welcome everyone to this tutorial\n",
            "Please learn these concepts properly\n"
          ]
        }
      ]
    },
    {
      "cell_type": "code",
      "source": [
        "##\n",
        "\n",
        "def main_welcome(func):\n",
        "\n",
        "  def sub_welcome_method():\n",
        "    print(\"Welcome to advanced python course\")\n",
        "    print(func())\n",
        "    print(\"Please learn these concepts properly\")\n",
        "\n",
        "  return sub_welcome_method()"
      ],
      "metadata": {
        "id": "ACi7u5I9Ccrz"
      },
      "execution_count": 27,
      "outputs": []
    },
    {
      "cell_type": "code",
      "source": [
        "# main_welcome(len([1,2,3,4,5,6]))\n",
        "\n",
        "# main_welcome(len)\n",
        "\n",
        "len([1,2,3,4,5,6])"
      ],
      "metadata": {
        "colab": {
          "base_uri": "https://localhost:8080/"
        },
        "id": "Hw4egr3zCj-p",
        "outputId": "20eaff43-25bd-4e5e-cfab-66f749141395"
      },
      "execution_count": 25,
      "outputs": [
        {
          "output_type": "execute_result",
          "data": {
            "text/plain": [
              "6"
            ]
          },
          "metadata": {},
          "execution_count": 25
        }
      ]
    },
    {
      "cell_type": "code",
      "source": [
        "##\n",
        "\n",
        "def main_welcome(func,lst):\n",
        "\n",
        "  def sub_welcome_method():\n",
        "    print(\"Welcome to advanced python course\")\n",
        "    print(func(lst))\n",
        "    print(\"Please learn these concepts properly\")\n",
        "\n",
        "  return sub_welcome_method()"
      ],
      "metadata": {
        "id": "X02B14VsDm-U"
      },
      "execution_count": 29,
      "outputs": []
    },
    {
      "cell_type": "code",
      "source": [
        "main_welcome(len,[1,2,3,4,5])"
      ],
      "metadata": {
        "colab": {
          "base_uri": "https://localhost:8080/"
        },
        "id": "-VXm6qjaDbkD",
        "outputId": "4664b593-2b2a-449e-a47a-2ea34a9ea593"
      },
      "execution_count": 30,
      "outputs": [
        {
          "output_type": "stream",
          "name": "stdout",
          "text": [
            "Welcome to advanced python course\n",
            "5\n",
            "Please learn these concepts properly\n"
          ]
        }
      ]
    },
    {
      "cell_type": "code",
      "source": [
        "len([1,2,3,4,5,6])"
      ],
      "metadata": {
        "colab": {
          "base_uri": "https://localhost:8080/"
        },
        "id": "0-VmTuExDvev",
        "outputId": "cb9dce13-6e8a-4e85-ede4-a0041f93063f"
      },
      "execution_count": 31,
      "outputs": [
        {
          "output_type": "execute_result",
          "data": {
            "text/plain": [
              "6"
            ]
          },
          "metadata": {},
          "execution_count": 31
        }
      ]
    },
    {
      "cell_type": "code",
      "source": [
        "## Decorator\n",
        "def main_welcome(func):\n",
        "\n",
        "  def sub_welcome_method():\n",
        "    print(\"Welcome to advanced python course\")\n",
        "    print(func())\n",
        "    print(\"Please learn these concepts properly\")\n",
        "\n",
        "  return sub_welcome_method()"
      ],
      "metadata": {
        "id": "LL14wdzID4xw"
      },
      "execution_count": 34,
      "outputs": []
    },
    {
      "cell_type": "code",
      "source": [
        "def course_introduction():\n",
        "  print(\"This is an advanced python course\")\n",
        "\n",
        "course_introduction()"
      ],
      "metadata": {
        "colab": {
          "base_uri": "https://localhost:8080/"
        },
        "id": "GOMkVkMUECMA",
        "outputId": "34d0edec-cbf2-4030-d8c6-2733c9bc8d00"
      },
      "execution_count": 35,
      "outputs": [
        {
          "output_type": "stream",
          "name": "stdout",
          "text": [
            "This is an advanced python course\n"
          ]
        }
      ]
    },
    {
      "cell_type": "code",
      "source": [
        "main_welcome(course_introduction)"
      ],
      "metadata": {
        "colab": {
          "base_uri": "https://localhost:8080/"
        },
        "id": "ZxUTD0S2EONo",
        "outputId": "ed6ae56f-d13c-43d5-e95a-fee9b12745b0"
      },
      "execution_count": 36,
      "outputs": [
        {
          "output_type": "stream",
          "name": "stdout",
          "text": [
            "Welcome to advanced python course\n",
            "This is an advanced python course\n",
            "None\n",
            "Please learn these concepts properly\n"
          ]
        }
      ]
    },
    {
      "cell_type": "code",
      "source": [
        "@main_welcome\n",
        "def course_introduction():\n",
        "  print(\"This is an advanced python course\")"
      ],
      "metadata": {
        "colab": {
          "base_uri": "https://localhost:8080/"
        },
        "id": "psFy8J7QE4YF",
        "outputId": "84244295-e5ce-46e5-e25b-60e305e5b6d9"
      },
      "execution_count": 37,
      "outputs": [
        {
          "output_type": "stream",
          "name": "stdout",
          "text": [
            "Welcome to advanced python course\n",
            "This is an advanced python course\n",
            "None\n",
            "Please learn these concepts properly\n"
          ]
        }
      ]
    },
    {
      "cell_type": "code",
      "source": [
        "## Decorator\n",
        "\n",
        "def my_decorator(func):\n",
        "  def wrapper():\n",
        "    print(\"Something is happening before the function is called\")\n",
        "    func()\n",
        "    print(\"Something is happening after the function is called\")\n",
        "  return wrapper"
      ],
      "metadata": {
        "id": "eufUqNnbFGH1"
      },
      "execution_count": 38,
      "outputs": []
    },
    {
      "cell_type": "code",
      "source": [
        "@my_decorator\n",
        "def say_hello():\n",
        "  print(\"Hello\")\n",
        "say_hello()"
      ],
      "metadata": {
        "colab": {
          "base_uri": "https://localhost:8080/"
        },
        "id": "fQdObv0OFUVL",
        "outputId": "c1e2a994-36ec-40c1-efeb-0e2724be6b36"
      },
      "execution_count": 41,
      "outputs": [
        {
          "output_type": "stream",
          "name": "stdout",
          "text": [
            "Something is happening before the function is called\n",
            "Hello\n",
            "Something is happening after the function is called\n"
          ]
        }
      ]
    },
    {
      "cell_type": "code",
      "source": [
        "## Decorators with arguments\n",
        "def repeat(n):\n",
        "  def decorator(func):\n",
        "    def wrapper(*args,**kwargs):\n",
        "      for i in range(n):\n",
        "        func(*args,**kwargs)\n",
        "    return wrapper\n",
        "  return decorator"
      ],
      "metadata": {
        "id": "XNxydvLiFe_I"
      },
      "execution_count": 42,
      "outputs": []
    },
    {
      "cell_type": "code",
      "source": [
        "@repeat(3)\n",
        "def say_hello():\n",
        "  print(\"Heyaaaaa!\")"
      ],
      "metadata": {
        "id": "FPFXi2VjFplK"
      },
      "execution_count": 43,
      "outputs": []
    },
    {
      "cell_type": "code",
      "source": [
        "say_hello()"
      ],
      "metadata": {
        "colab": {
          "base_uri": "https://localhost:8080/"
        },
        "id": "Vn42w00UFxUg",
        "outputId": "1a68406b-7711-4ef1-9c41-301aebf23cd0"
      },
      "execution_count": 44,
      "outputs": [
        {
          "output_type": "stream",
          "name": "stdout",
          "text": [
            "Heyaaaaa!\n",
            "Heyaaaaa!\n",
            "Heyaaaaa!\n"
          ]
        }
      ]
    },
    {
      "cell_type": "markdown",
      "source": [
        "***CONCLUSION***\n",
        "\n",
        "Decorators are a powerful tool in python for extending and modifying the behavior of functions and methods. They provide a clean and readable way to add functionality such as logging, timing, access control, and more without changing the original code. Understanding and using decorators effectively can significantly enhance your pythong programming skills."
      ],
      "metadata": {
        "id": "L--poxsBF07x"
      }
    }
  ]
}