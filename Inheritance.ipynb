{
  "nbformat": 4,
  "nbformat_minor": 0,
  "metadata": {
    "colab": {
      "provenance": [],
      "authorship_tag": "ABX9TyOzymNhIFdMJVqaMVIET+SA",
      "include_colab_link": true
    },
    "kernelspec": {
      "name": "python3",
      "display_name": "Python 3"
    },
    "language_info": {
      "name": "python"
    }
  },
  "cells": [
    {
      "cell_type": "markdown",
      "metadata": {
        "id": "view-in-github",
        "colab_type": "text"
      },
      "source": [
        "<a href=\"https://colab.research.google.com/github/Suruchi264/Python-for-Data-Science/blob/main/Inheritance.ipynb\" target=\"_parent\"><img src=\"https://colab.research.google.com/assets/colab-badge.svg\" alt=\"Open In Colab\"/></a>"
      ]
    },
    {
      "cell_type": "markdown",
      "source": [
        "***INHERITANCE IN PYTHON ***\n",
        "\n",
        "Inheritance is a fundamental concept in OOP that allows a class to inherit attributes and methods from another class. This covers single inheritance and multiple inheritance, demonstrating how to create and use them in Python."
      ],
      "metadata": {
        "id": "SCS-ifWRtWha"
      }
    },
    {
      "cell_type": "code",
      "source": [
        "## Parent Class\n",
        "class Car:\n",
        "    # The __init__ method is the constructor for the class.\n",
        "    # It is called when you create a new instance (object) of the Car class.\n",
        "    # It takes the instance itself (self) and three arguments: windows, doors, and enginetype.\n",
        "    def __init__(self,windows,doors,enginetype):\n",
        "        # These lines assign the values passed as arguments to the instance variables\n",
        "        # (attributes) of the Car object.\n",
        "        self.windows=windows\n",
        "        self.doors=doors\n",
        "        self.enginetype=enginetype\n",
        "\n",
        "    # The drive method is a behavior (function) that Car objects can perform.\n",
        "    # It takes the instance itself (self) as an argument.\n",
        "    def drive(self):\n",
        "        # This line prints a message indicating that a person will drive the car.\n",
        "        # It uses an f-string to embed the value of the 'enginetype' attribute into the message.\n",
        "        print(f\"The person will drive the {self.enginetype} car\")"
      ],
      "metadata": {
        "id": "wXBkbdwytoVG"
      },
      "execution_count": null,
      "outputs": []
    },
    {
      "cell_type": "code",
      "source": [
        "car1 = Car(4,5,\"petrol\")\n",
        "car1.drive()\n",
        "\n",
        "# In the code car1 = Car(4, 5, \"petrol\"), the numbers 4 and 5 are used as arguments when creating an instance of the Car class. These values are passed to\n",
        "# the __init__ method (the constructor) of the Car class.\n",
        "\n",
        "# 4 is assigned to the windows attribute of the car1 object.\n",
        "# 5 is assigned to the doors attribute of the car1 object.\n",
        "# So, this specific car1 object represents a car with 4 windows and 5 doors."
      ],
      "metadata": {
        "colab": {
          "base_uri": "https://localhost:8080/"
        },
        "id": "z1Iw5RJruPS0",
        "outputId": "faff6f6c-28ed-40f2-f623-9f5a4b9a13cb"
      },
      "execution_count": null,
      "outputs": [
        {
          "output_type": "stream",
          "name": "stdout",
          "text": [
            "The person will drive the petrol car\n"
          ]
        }
      ]
    },
    {
      "cell_type": "code",
      "source": [
        "# The Tesla class inherits from the Car class, meaning it gets all the attributes and methods of Car.\n",
        "class Tesla(Car):\n",
        "  # The __init__ method for the Tesla class.\n",
        "  # It takes the instance itself (self) and four arguments: windows, doors, enginetype, and is_selfdriving.\n",
        "  def __init__(self,windows,doors,enginetype,is_selfdriving):\n",
        "    # super().__init__(windows,doors,enginetype) calls the constructor of the parent class (Car).\n",
        "    # This initializes the 'windows', 'doors', and 'enginetype' attributes using the Car class's __init__ method.\n",
        "    super().__init__(windows,doors,enginetype)\n",
        "    # This line assigns the value passed for 'is_selfdriving' to a new attribute specific to the Tesla class.\n",
        "    self.is_selfdriving = is_selfdriving\n",
        "\n",
        "  # The selfdriving method is a behavior specific to Tesla objects.\n",
        "  # It takes the instance itself (self) as an argument.\n",
        "  def selfdriving(self):\n",
        "    # This line prints a message indicating whether the Tesla supports self-driving, using the 'is_selfdriving' attribute.\n",
        "    print(f\"Tesla supports self driving {self.is_selfdriving}\")"
      ],
      "metadata": {
        "id": "KuDeY2x6uj2-"
      },
      "execution_count": null,
      "outputs": []
    },
    {
      "cell_type": "code",
      "source": [
        "tesla1.drive()"
      ],
      "metadata": {
        "colab": {
          "base_uri": "https://localhost:8080/",
          "height": 141
        },
        "id": "j5HZnScevVDV",
        "outputId": "1f36718b-a9c4-4741-d592-ed4affdc15e3"
      },
      "execution_count": null,
      "outputs": [
        {
          "output_type": "error",
          "ename": "TypeError",
          "evalue": "Car.drive() missing 1 required positional argument: 'self'",
          "traceback": [
            "\u001b[0;31m---------------------------------------------------------------------------\u001b[0m",
            "\u001b[0;31mTypeError\u001b[0m                                 Traceback (most recent call last)",
            "\u001b[0;32m<ipython-input-9-1420771062>\u001b[0m in \u001b[0;36m<cell line: 0>\u001b[0;34m()\u001b[0m\n\u001b[0;32m----> 1\u001b[0;31m \u001b[0mTesla\u001b[0m\u001b[0;34m.\u001b[0m\u001b[0mdrive\u001b[0m\u001b[0;34m(\u001b[0m\u001b[0;34m)\u001b[0m\u001b[0;34m\u001b[0m\u001b[0;34m\u001b[0m\u001b[0m\n\u001b[0m",
            "\u001b[0;31mTypeError\u001b[0m: Car.drive() missing 1 required positional argument: 'self'"
          ]
        }
      ]
    },
    {
      "cell_type": "code",
      "metadata": {
        "colab": {
          "base_uri": "https://localhost:8080/"
        },
        "id": "656a4be7",
        "outputId": "b26930b2-84d7-4cc0-e828-0f0369b742cb"
      },
      "source": [
        "# Create an instance of the Tesla class\n",
        "tesla1 = Tesla(4, 5, \"electric\", True)\n",
        "\n",
        "# Call the drive method on the tesla1 object\n",
        "tesla1.drive()\n",
        "\n",
        "# Call the selfdriving method on the tesla1 object\n",
        "tesla1.selfdriving()"
      ],
      "execution_count": null,
      "outputs": [
        {
          "output_type": "stream",
          "name": "stdout",
          "text": [
            "The person will drive the electric car\n",
            "Tesla supports self driving True\n"
          ]
        }
      ]
    },
    {
      "cell_type": "code",
      "source": [
        "## Multiple Inheritance\n",
        "## When a class inherits from more than 1 base class\n",
        "## Base Class 1\n",
        "\n",
        "class Animal:\n",
        "  def __init__(self,name):\n",
        "    self.name = name\n",
        "  def speak(self):\n",
        "    print(\"Sublcass must implement this method\")\n",
        "\n",
        "\n",
        "## Base class 2\n",
        "class Pet:\n",
        "  def __init__(self,owner):\n",
        "    self.owner = owner\n",
        "\n",
        "## Derived Class\n",
        "class Dog(Animal,Pet):\n",
        "  def __init__(self,name,owner):\n",
        "    Animal.__init__(self,name)\n",
        "    Pet.__init__(self,owner)\n",
        "\n",
        "  def speak(self):\n",
        "    return f\"{self.name} say woof\"\n",
        "\n",
        "## Create an object\n",
        "dog = Dog(\"Buddy\",\"Suruchi\")\n",
        "print(dog.speak())\n",
        "print(f\"Owner:{dog.owner}\")"
      ],
      "metadata": {
        "colab": {
          "base_uri": "https://localhost:8080/"
        },
        "id": "Wntun_6Wv9EB",
        "outputId": "ea2fbe9c-cadf-4ac3-af2c-349e482cf701"
      },
      "execution_count": null,
      "outputs": [
        {
          "output_type": "stream",
          "name": "stdout",
          "text": [
            "Buddy say woof\n",
            "Owner:Suruchi\n"
          ]
        }
      ]
    }
  ]
}