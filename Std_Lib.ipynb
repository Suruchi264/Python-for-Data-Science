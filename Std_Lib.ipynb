{
  "cells": [
    {
      "cell_type": "markdown",
      "metadata": {
        "id": "view-in-github",
        "colab_type": "text"
      },
      "source": [
        "<a href=\"https://colab.research.google.com/github/Suruchi264/Python-for-Data-Science/blob/main/Std_Lib.ipynb\" target=\"_parent\"><img src=\"https://colab.research.google.com/assets/colab-badge.svg\" alt=\"Open In Colab\"/></a>"
      ]
    },
    {
      "cell_type": "markdown",
      "id": "0bb2728f",
      "metadata": {
        "id": "0bb2728f"
      },
      "source": [
        "### Standard Library Overview"
      ]
    },
    {
      "cell_type": "markdown",
      "id": "323673c0",
      "metadata": {
        "id": "323673c0"
      },
      "source": [
        "Python's Standard Library is a vast collection of midules and lackages that come bundled with python, providing a lasrge range of functionalities out of the box. Here's an overview of some of the most commonly used modules and packages in the Python Standard Library"
      ]
    },
    {
      "cell_type": "code",
      "execution_count": null,
      "id": "3e323283",
      "metadata": {
        "colab": {
          "base_uri": "https://localhost:8080/"
        },
        "id": "3e323283",
        "outputId": "ee94da9d-3ff5-4610-91ec-10b872afbfa0"
      },
      "outputs": [
        {
          "output_type": "stream",
          "name": "stdout",
          "text": [
            "array('i', [1, 2, 3, 4])\n"
          ]
        }
      ],
      "source": [
        "import array\n",
        "arr = array.array('i',[1,2,3,4])\n",
        "print(arr)"
      ]
    },
    {
      "cell_type": "code",
      "source": [
        "import math\n",
        "print(math.sqrt(16))\n",
        "print(math.pi)"
      ],
      "metadata": {
        "colab": {
          "base_uri": "https://localhost:8080/"
        },
        "id": "XVhoQcUVgYJ_",
        "outputId": "e4abbc1f-951d-4ccf-b3eb-82d47a51d889"
      },
      "id": "XVhoQcUVgYJ_",
      "execution_count": null,
      "outputs": [
        {
          "output_type": "stream",
          "name": "stdout",
          "text": [
            "4.0\n",
            "3.141592653589793\n"
          ]
        }
      ]
    },
    {
      "cell_type": "code",
      "source": [
        "## RANDOM\n",
        "\n",
        "import random\n",
        "print(random.randint(1,10))\n",
        "print(random.choice(['apple','banana','cherry']))"
      ],
      "metadata": {
        "colab": {
          "base_uri": "https://localhost:8080/"
        },
        "id": "zw5Zqv-Xgr9y",
        "outputId": "a2d52cbf-baf1-49b9-f23a-2822273be0f2"
      },
      "id": "zw5Zqv-Xgr9y",
      "execution_count": null,
      "outputs": [
        {
          "output_type": "stream",
          "name": "stdout",
          "text": [
            "10\n",
            "banana\n"
          ]
        }
      ]
    },
    {
      "cell_type": "code",
      "source": [
        "## FILE AND DIRECTORY ACCESS\n",
        "\n",
        "import os\n",
        "print(os.getcwd())"
      ],
      "metadata": {
        "colab": {
          "base_uri": "https://localhost:8080/"
        },
        "id": "SR14dJrCg-fv",
        "outputId": "f7ca48f9-dc3c-4caf-af42-1aae745ae950"
      },
      "id": "SR14dJrCg-fv",
      "execution_count": null,
      "outputs": [
        {
          "output_type": "stream",
          "name": "stdout",
          "text": [
            "/content\n"
          ]
        }
      ]
    },
    {
      "cell_type": "code",
      "source": [
        "os.mkdir('test_dir2')\n",
        "os.listdir()"
      ],
      "metadata": {
        "colab": {
          "base_uri": "https://localhost:8080/"
        },
        "id": "KdrkoqH_is2b",
        "outputId": "715a9b39-28b7-4374-ab3d-63fe95b4a5d4"
      },
      "id": "KdrkoqH_is2b",
      "execution_count": null,
      "outputs": [
        {
          "output_type": "execute_result",
          "data": {
            "text/plain": [
              "['.config',\n",
              " 'math.cpython-311.pyc',\n",
              " 'math.cpython-312.pyc',\n",
              " 'test_dir',\n",
              " 'test_dir2',\n",
              " 'sample_data']"
            ]
          },
          "metadata": {},
          "execution_count": 8
        }
      ]
    },
    {
      "cell_type": "code",
      "source": [
        "## HIGH LEVEL OPERATIONS ON FILES AND COLLECTIONS OF FILES\n",
        "\n",
        "import shutil\n",
        "shutil.copyfile('source.txt','destination.txt')"
      ],
      "metadata": {
        "colab": {
          "base_uri": "https://localhost:8080/",
          "height": 297
        },
        "id": "DciVY9ExlBEt",
        "outputId": "bc066558-7ee6-414d-c26d-fa6052b1fa7f"
      },
      "id": "DciVY9ExlBEt",
      "execution_count": null,
      "outputs": [
        {
          "output_type": "error",
          "ename": "FileNotFoundError",
          "evalue": "[Errno 2] No such file or directory: 'source.txt'",
          "traceback": [
            "\u001b[0;31m---------------------------------------------------------------------------\u001b[0m",
            "\u001b[0;31mFileNotFoundError\u001b[0m                         Traceback (most recent call last)",
            "\u001b[0;32m<ipython-input-9-274961675c21>\u001b[0m in \u001b[0;36m<cell line: 0>\u001b[0;34m()\u001b[0m\n\u001b[1;32m      2\u001b[0m \u001b[0;34m\u001b[0m\u001b[0m\n\u001b[1;32m      3\u001b[0m \u001b[0;32mimport\u001b[0m \u001b[0mshutil\u001b[0m\u001b[0;34m\u001b[0m\u001b[0;34m\u001b[0m\u001b[0m\n\u001b[0;32m----> 4\u001b[0;31m \u001b[0mshutil\u001b[0m\u001b[0;34m.\u001b[0m\u001b[0mcopyfile\u001b[0m\u001b[0;34m(\u001b[0m\u001b[0;34m'source.txt'\u001b[0m\u001b[0;34m,\u001b[0m\u001b[0;34m'destination.txt'\u001b[0m\u001b[0;34m)\u001b[0m\u001b[0;34m\u001b[0m\u001b[0;34m\u001b[0m\u001b[0m\n\u001b[0m",
            "\u001b[0;32m/usr/lib/python3.11/shutil.py\u001b[0m in \u001b[0;36mcopyfile\u001b[0;34m(src, dst, follow_symlinks)\u001b[0m\n\u001b[1;32m    254\u001b[0m         \u001b[0mos\u001b[0m\u001b[0;34m.\u001b[0m\u001b[0msymlink\u001b[0m\u001b[0;34m(\u001b[0m\u001b[0mos\u001b[0m\u001b[0;34m.\u001b[0m\u001b[0mreadlink\u001b[0m\u001b[0;34m(\u001b[0m\u001b[0msrc\u001b[0m\u001b[0;34m)\u001b[0m\u001b[0;34m,\u001b[0m \u001b[0mdst\u001b[0m\u001b[0;34m)\u001b[0m\u001b[0;34m\u001b[0m\u001b[0;34m\u001b[0m\u001b[0m\n\u001b[1;32m    255\u001b[0m     \u001b[0;32melse\u001b[0m\u001b[0;34m:\u001b[0m\u001b[0;34m\u001b[0m\u001b[0;34m\u001b[0m\u001b[0m\n\u001b[0;32m--> 256\u001b[0;31m         \u001b[0;32mwith\u001b[0m \u001b[0mopen\u001b[0m\u001b[0;34m(\u001b[0m\u001b[0msrc\u001b[0m\u001b[0;34m,\u001b[0m \u001b[0;34m'rb'\u001b[0m\u001b[0;34m)\u001b[0m \u001b[0;32mas\u001b[0m \u001b[0mfsrc\u001b[0m\u001b[0;34m:\u001b[0m\u001b[0;34m\u001b[0m\u001b[0;34m\u001b[0m\u001b[0m\n\u001b[0m\u001b[1;32m    257\u001b[0m             \u001b[0;32mtry\u001b[0m\u001b[0;34m:\u001b[0m\u001b[0;34m\u001b[0m\u001b[0;34m\u001b[0m\u001b[0m\n\u001b[1;32m    258\u001b[0m                 \u001b[0;32mwith\u001b[0m \u001b[0mopen\u001b[0m\u001b[0;34m(\u001b[0m\u001b[0mdst\u001b[0m\u001b[0;34m,\u001b[0m \u001b[0;34m'wb'\u001b[0m\u001b[0;34m)\u001b[0m \u001b[0;32mas\u001b[0m \u001b[0mfdst\u001b[0m\u001b[0;34m:\u001b[0m\u001b[0;34m\u001b[0m\u001b[0;34m\u001b[0m\u001b[0m\n",
            "\u001b[0;31mFileNotFoundError\u001b[0m: [Errno 2] No such file or directory: 'source.txt'"
          ]
        }
      ]
    },
    {
      "cell_type": "markdown",
      "source": [],
      "metadata": {
        "id": "9L-SoWwoj8g2"
      },
      "id": "9L-SoWwoj8g2"
    },
    {
      "cell_type": "code",
      "metadata": {
        "id": "871ceb0f"
      },
      "source": [
        "# Create the source.txt file and write content to it\n",
        "with open('source.txt', 'w') as f:\n",
        "  f.write('Hello, How are you ?  I am fine. Welcome to the course.')"
      ],
      "id": "871ceb0f",
      "execution_count": null,
      "outputs": []
    },
    {
      "cell_type": "code",
      "metadata": {
        "colab": {
          "base_uri": "https://localhost:8080/",
          "height": 35
        },
        "id": "f0f58253",
        "outputId": "8bc708cf-2c39-4f2a-aafa-29f84f5c836a"
      },
      "source": [
        "# Import the shutil module for high-level file operations\n",
        "import shutil\n",
        "# Copy the content of 'source.txt' to 'destination.txt'\n",
        "shutil.copyfile('source.txt','destination.txt')"
      ],
      "id": "f0f58253",
      "execution_count": null,
      "outputs": [
        {
          "output_type": "execute_result",
          "data": {
            "text/plain": [
              "'destination.txt'"
            ],
            "application/vnd.google.colaboratory.intrinsic+json": {
              "type": "string"
            }
          },
          "metadata": {},
          "execution_count": 17
        }
      ]
    },
    {
      "cell_type": "code",
      "metadata": {
        "colab": {
          "base_uri": "https://localhost:8080/"
        },
        "id": "180e6179",
        "outputId": "38bf71a4-62ba-4c9d-f383-aec5b3d363f9"
      },
      "source": [
        "# Open 'destination.txt' in read mode\n",
        "with open('destination.txt', 'r') as f:\n",
        "  # Read the entire content of the file\n",
        "  content = f.read()\n",
        "  # Print the content to the console\n",
        "  print(content)"
      ],
      "id": "180e6179",
      "execution_count": null,
      "outputs": [
        {
          "output_type": "stream",
          "name": "stdout",
          "text": [
            "Hello, How are you ?  I am fine. Welcome to the course.\n"
          ]
        }
      ]
    },
    {
      "cell_type": "code",
      "source": [
        "# In data science, data serialization is the process of\n",
        "# converting data structures or objects into a format that\n",
        "# can be easily stored, transmitted, and reconstructed later.\n",
        "# This is crucial for tasks like saving model weights, sharing data\n",
        "# between different programs or systems, and storing data in databases\n",
        "# or files. Common serialization formats include JSON, CSV, and Protocol\n",
        "# Buffers.\n",
        "\n",
        "## DATA SERIALIZATION\n",
        "\n",
        "# Import the json module for working with JSON data\n",
        "import json\n",
        "# Create a Python dictionary\n",
        "data = {'name':'Suruchi','age':22}\n",
        "\n",
        "# Serialize the Python dictionary to a JSON formatted string\n",
        "json_str = json.dumps(data)\n",
        "# Print the JSON string\n",
        "print(json_str)\n",
        "\n",
        "# Deserialize the JSON formatted string back to a Python dictionary\n",
        "parsed_data = json.loads(json_str)\n",
        "# Print the deserialized data (which is a Python dictionary)\n",
        "print(parsed_data)\n",
        "# Print the type of the deserialized data\n",
        "print(type(parsed_data))"
      ],
      "metadata": {
        "colab": {
          "base_uri": "https://localhost:8080/"
        },
        "id": "8pNEOGHJtuV_",
        "outputId": "10b718c2-b246-4d36-acd9-f099c0265506"
      },
      "id": "8pNEOGHJtuV_",
      "execution_count": null,
      "outputs": [
        {
          "output_type": "stream",
          "name": "stdout",
          "text": [
            "{\"name\": \"Suruchi\", \"age\": 22}\n",
            "{'name': 'Suruchi', 'age': 22}\n",
            "<class 'dict'>\n"
          ]
        }
      ]
    },
    {
      "cell_type": "code",
      "source": [
        "## CSV\n",
        "\n",
        "import csv\n",
        "\n",
        "# Open 'example.csv' in write mode ('w').\n",
        "# newline='' is important to prevent extra blank rows in the CSV.\n",
        "with open('example.csv',mode='w',newline='') as file:\n",
        "  # Create a CSV writer object\n",
        "  writer=csv.writer(file)\n",
        "  # Write the header row\n",
        "  writer.writerow(['name','age'])\n",
        "  # Write a data row\n",
        "  writer.writerow(['Suruchi',22])\n",
        "\n",
        "# Open 'example.csv' in read mode ('r')\n",
        "with open('example.csv',mode='r') as file:\n",
        "  # Create a CSV reader object\n",
        "  reader=csv.reader(file)\n",
        "  # Iterate over each row in the CSV file\n",
        "  for row in reader:\n",
        "    # Print the current row (which is a list of strings)\n",
        "    print(row)\n",
        "\n",
        "\n",
        "\n",
        "\n",
        "# The csv.writer object takes care of properly quoting fields, handling\n",
        "# delimiters (like commas), and managing line endings when writing data\n",
        "# to a CSV file. This ensures that the data is written in a standard and\n",
        "# readable CSV format.\n",
        "# Similarly, the csv.reader object handles parsing each line of a CSV file,\n",
        "# splitting it into individual fields based on the delimiter, and managing\n",
        "# potential quoting issues when reading data. This allows us to easily\n",
        "# access the data in each row as a list of strings.\n",
        "# Using these objects simplifies the process of working with CSV files and\n",
        "# helps avoid potential errors that could arise from manually handling the\n",
        "# formatting.\n",
        "\n",
        "\n",
        "\n",
        "# In the context of the CSV code and the explanation, parsing refers to the\n",
        "# process of reading the data from the example.csv file and interpreting its\n",
        "# structure to make it usable in Python.\n",
        "\n",
        "# Specifically, when we use the csv.reader, it parses each line of the CSV\n",
        "# file. This means it:\n",
        "\n",
        "# Reads a line of text from the file.\n",
        "# Identifies the individual data fields within that line based on the comma\n",
        "# delimiter.\n",
        "# Handles any quoting around the fields.\n",
        "# Organizes these fields into a structured format, which in this case is a\n",
        "# Python list of strings for each row.\n",
        "# So, the csv.reader object is doing the work of parsing the raw text of the\n",
        "# CSV file into a structured format (a list) that we can easily process and\n",
        "# use in our Python program."
      ],
      "metadata": {
        "colab": {
          "base_uri": "https://localhost:8080/"
        },
        "id": "VI0xIzGFu3H4",
        "outputId": "7efddff4-ed5b-425a-d7be-d34893961029"
      },
      "id": "VI0xIzGFu3H4",
      "execution_count": null,
      "outputs": [
        {
          "output_type": "stream",
          "name": "stdout",
          "text": [
            "['name', 'age']\n",
            "['Suruchi', '22']\n"
          ]
        }
      ]
    },
    {
      "cell_type": "code",
      "source": [
        "## DATETIME\n",
        "\n",
        "# Import the datetime and timedelta classes from the datetime module\n",
        "from datetime import datetime,timedelta\n",
        "\n",
        "# Get the current date and time\n",
        "now = datetime.now()\n",
        "# Print the current date and time\n",
        "print(now)\n",
        "\n",
        "# Calculate the date and time for yesterday by subtracting one day from the current date and time\n",
        "yesterday = now-timedelta(days=1)\n",
        "# Print the date and time for yesterday\n",
        "print(yesterday)"
      ],
      "metadata": {
        "colab": {
          "base_uri": "https://localhost:8080/"
        },
        "id": "72O2BkViwk8N",
        "outputId": "874ea03b-ebdc-4337-d00e-dcb9afc2ecab"
      },
      "id": "72O2BkViwk8N",
      "execution_count": null,
      "outputs": [
        {
          "output_type": "stream",
          "name": "stdout",
          "text": [
            "2025-06-06 15:08:34.262484\n",
            "2025-06-05 15:08:34.262484\n"
          ]
        }
      ]
    },
    {
      "cell_type": "code",
      "source": [
        "# TIME\n",
        "\n",
        "# Import the time module\n",
        "import time\n",
        "# Print the current time in seconds since the epoch\n",
        "print(time.time())\n",
        "# Pause the execution of the program for 2 seconds\n",
        "time.sleep(2)\n",
        "# Print the current time in seconds since the epoch again (will be approximately 2 seconds later)\n",
        "print(time.time())"
      ],
      "metadata": {
        "colab": {
          "base_uri": "https://localhost:8080/"
        },
        "id": "Eu_WV0JeysvH",
        "outputId": "3f94dc1a-da55-4788-f409-0a1d25704368"
      },
      "id": "Eu_WV0JeysvH",
      "execution_count": null,
      "outputs": [
        {
          "output_type": "stream",
          "name": "stdout",
          "text": [
            "1749222709.2275047\n",
            "1749222711.2290375\n"
          ]
        }
      ]
    },
    {
      "cell_type": "code",
      "source": [
        "# A RegEx, or Regular Expression, is a sequence of characters that forms a\n",
        "# search pattern.\n",
        "# RegEx can be used to check if a string contains the specified search\n",
        "# pattern.\n",
        "# RegEx Module\n",
        "# Python has a built-in package called re, which can be used to work with\n",
        "# Regular Expressions.\n",
        "\n",
        "\n",
        "import re\n",
        "\n",
        "# Define a regular expression pattern to find one or more digits\n",
        "pattern = r'\\d+'\n",
        "# Define the text string to search within\n",
        "text = 'There are 123 apples 456'\n",
        "# Search the text for the pattern and store the match object\n",
        "match = re.search(pattern,text)\n",
        "# If a match is found, print the matched string\n",
        "print(match.group())"
      ],
      "metadata": {
        "colab": {
          "base_uri": "https://localhost:8080/"
        },
        "id": "xOgDUAyQzTsf",
        "outputId": "4e56c15a-5e38-4021-84f9-d41bac99ebb0"
      },
      "id": "xOgDUAyQzTsf",
      "execution_count": null,
      "outputs": [
        {
          "output_type": "stream",
          "name": "stdout",
          "text": [
            "123\n"
          ]
        }
      ]
    },
    {
      "cell_type": "markdown",
      "source": [
        "**CONCLUSION**\n",
        "\n",
        "Python's Std Library is extensive and provides tools for almost any task you can think of, from the file handling to the web services, from data serialization to concurrent execution. Familiarizing yourself with the modules and packages avaliable in the Standard Library can significantly enhance your ability to write efficient and effctive Python programs.\n"
      ],
      "metadata": {
        "id": "B9jvV1bLz7nc"
      },
      "id": "B9jvV1bLz7nc"
    }
  ],
  "metadata": {
    "kernelspec": {
      "display_name": "venv",
      "language": "python",
      "name": "python3"
    },
    "language_info": {
      "name": "python",
      "version": "3.12.0"
    },
    "colab": {
      "provenance": [],
      "include_colab_link": true
    }
  },
  "nbformat": 4,
  "nbformat_minor": 5
}