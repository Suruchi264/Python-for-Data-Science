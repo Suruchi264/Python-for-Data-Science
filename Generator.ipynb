{
  "nbformat": 4,
  "nbformat_minor": 0,
  "metadata": {
    "colab": {
      "provenance": [],
      "authorship_tag": "ABX9TyNXl/ziuuwgy6I7JFzmScsS",
      "include_colab_link": true
    },
    "kernelspec": {
      "name": "python3",
      "display_name": "Python 3"
    },
    "language_info": {
      "name": "python"
    }
  },
  "cells": [
    {
      "cell_type": "markdown",
      "metadata": {
        "id": "view-in-github",
        "colab_type": "text"
      },
      "source": [
        "<a href=\"https://colab.research.google.com/github/Suruchi264/Python-for-Data-Science/blob/main/Generator.ipynb\" target=\"_parent\"><img src=\"https://colab.research.google.com/assets/colab-badge.svg\" alt=\"Open In Colab\"/></a>"
      ]
    },
    {
      "cell_type": "markdown",
      "source": [
        "***GENERATORS***\n",
        "\n",
        "Generators are a simpler way to create iterators. They use the yield keyword to produce a series of values lazily, which means they generate values on the fly and do not store them in memory."
      ],
      "metadata": {
        "id": "9eiqPK3V91Dy"
      }
    },
    {
      "cell_type": "code",
      "source": [
        "def square(n):\n",
        "  for i in range(3):\n",
        "    return i**2"
      ],
      "metadata": {
        "id": "-W_UJRV_-C5v"
      },
      "execution_count": null,
      "outputs": []
    },
    {
      "cell_type": "code",
      "source": [
        "def square(n):\n",
        "  for i in range(3):\n",
        "    yield i**2"
      ],
      "metadata": {
        "id": "q4WrpUOZ-VG6"
      },
      "execution_count": null,
      "outputs": []
    },
    {
      "cell_type": "code",
      "source": [
        "square(3)"
      ],
      "metadata": {
        "colab": {
          "base_uri": "https://localhost:8080/"
        },
        "id": "9_miDPcj-P1r",
        "outputId": "49e4e5c8-026d-46ba-9879-bb113ba3e9a1"
      },
      "execution_count": null,
      "outputs": [
        {
          "output_type": "execute_result",
          "data": {
            "text/plain": [
              "<generator object square at 0x7ab813d9a190>"
            ]
          },
          "metadata": {},
          "execution_count": 4
        }
      ]
    },
    {
      "cell_type": "code",
      "source": [
        "for i in square(3):\n",
        "  print(i)"
      ],
      "metadata": {
        "colab": {
          "base_uri": "https://localhost:8080/"
        },
        "id": "XADSJ-Ql-eOk",
        "outputId": "3b87bd8a-5c65-49f5-b240-2b60a00f51ae"
      },
      "execution_count": null,
      "outputs": [
        {
          "output_type": "stream",
          "name": "stdout",
          "text": [
            "0\n",
            "1\n",
            "4\n"
          ]
        }
      ]
    },
    {
      "cell_type": "code",
      "source": [
        "a = square(3)\n",
        "a"
      ],
      "metadata": {
        "colab": {
          "base_uri": "https://localhost:8080/"
        },
        "id": "ghlnzErP-kA-",
        "outputId": "435c40a3-92e3-493c-862b-7b2bfdf584a3"
      },
      "execution_count": null,
      "outputs": [
        {
          "output_type": "execute_result",
          "data": {
            "text/plain": [
              "<generator object square at 0x7ab813d9b780>"
            ]
          },
          "metadata": {},
          "execution_count": 6
        }
      ]
    },
    {
      "cell_type": "code",
      "source": [
        "next(a)"
      ],
      "metadata": {
        "colab": {
          "base_uri": "https://localhost:8080/"
        },
        "id": "LLLfHLF_-n6M",
        "outputId": "7b367242-4507-477c-f8d3-4022a9c39cab"
      },
      "execution_count": null,
      "outputs": [
        {
          "output_type": "execute_result",
          "data": {
            "text/plain": [
              "0"
            ]
          },
          "metadata": {},
          "execution_count": 7
        }
      ]
    },
    {
      "cell_type": "code",
      "source": [
        "def my_generator():\n",
        "  yield 1\n",
        "  yield 2\n",
        "  yield 3"
      ],
      "metadata": {
        "id": "127VMcPK-tSy"
      },
      "execution_count": null,
      "outputs": []
    },
    {
      "cell_type": "code",
      "source": [
        "gen = my_generator()\n",
        "gen"
      ],
      "metadata": {
        "colab": {
          "base_uri": "https://localhost:8080/"
        },
        "id": "YwTqbv3o-zUp",
        "outputId": "e450d8a4-daff-4c04-febb-863176396a6b"
      },
      "execution_count": null,
      "outputs": [
        {
          "output_type": "execute_result",
          "data": {
            "text/plain": [
              "<generator object my_generator at 0x7ab813d3fe20>"
            ]
          },
          "metadata": {},
          "execution_count": 9
        }
      ]
    },
    {
      "cell_type": "code",
      "source": [
        "next(gen)"
      ],
      "metadata": {
        "colab": {
          "base_uri": "https://localhost:8080/"
        },
        "id": "Py7qknul-2JW",
        "outputId": "68c49b83-095b-4e73-a93a-f104b0e7594a"
      },
      "execution_count": null,
      "outputs": [
        {
          "output_type": "execute_result",
          "data": {
            "text/plain": [
              "1"
            ]
          },
          "metadata": {},
          "execution_count": 10
        }
      ]
    },
    {
      "cell_type": "code",
      "source": [
        "for val in gen:\n",
        "  print(val)"
      ],
      "metadata": {
        "colab": {
          "base_uri": "https://localhost:8080/"
        },
        "id": "nrU8bmgH-8AM",
        "outputId": "2faa2278-f259-4bcc-c05e-924632332444"
      },
      "execution_count": null,
      "outputs": [
        {
          "output_type": "stream",
          "name": "stdout",
          "text": [
            "2\n",
            "3\n"
          ]
        }
      ]
    },
    {
      "cell_type": "markdown",
      "source": [
        "***PRACTICAL EXAMPLE: READING LARGE FILES***\n",
        "\n",
        "Generators are particularly useful for reading large files because they allow you to process one line at a time without loading the entire file into memory."
      ],
      "metadata": {
        "id": "ZdLjEx9J_EUS"
      }
    },
    {
      "cell_type": "code",
      "source": [
        "## Practical: Reading large files\n",
        "\n",
        "def read_large_file(file_path):\n",
        "  with open(file_path, 'r') as file:\n",
        "    for line in file:\n",
        "      yield line"
      ],
      "metadata": {
        "id": "gL9pZseK_WU1"
      },
      "execution_count": null,
      "outputs": []
    },
    {
      "cell_type": "code",
      "source": [
        "file_path = 'large_file.txt'\n",
        "\n",
        "for line in read_large_file(file_path):\n",
        "  print(line.strip())"
      ],
      "metadata": {
        "colab": {
          "base_uri": "https://localhost:8080/"
        },
        "id": "LkRdWm_m_6Cg",
        "outputId": "260524ab-f05c-44e5-bcf5-f3e930231baa"
      },
      "execution_count": null,
      "outputs": [
        {
          "output_type": "stream",
          "name": "stdout",
          "text": [
            "-  Python Programming for Data Analysis  – Mastered Pandas, NumPy, and data manipulation techniques.\n",
            "-  Statistics for Data Science  – Gained confidence in descriptive stats, hypothesis testing, and inferential analysis.\n",
            "-  Feature Engineering & Data Preprocessing  – Cleaned and prepped data using scaling, encoding, and transformation methods.\n",
            "-  Exploratory Data Analysis (EDA)  – Visualized and interpreted patterns using Matplotlib and Seaborn.\n",
            "-  SQL for Data Analysts  – Wrote complex queries for data retrieval and analysis using SQL Server.\n",
            "-  Power BI for Reporting  – Built interactive dashboards, used DAX, and published reports to the cloud.\n"
          ]
        }
      ]
    }
  ]
}